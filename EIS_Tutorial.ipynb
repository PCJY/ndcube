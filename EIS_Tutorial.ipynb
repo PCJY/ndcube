{
  "cells": [
    {
      "cell_type": "markdown",
      "id": "4a3e7568",
      "metadata": {
        "id": "4a3e7568"
      },
      "source": [
        "# Tutorial Session: Exploring Solar Spectra Using Hinode/EIS and Python"
      ]
    },
    {
      "cell_type": "markdown",
      "id": "ffb93c90",
      "metadata": {
        "id": "ffb93c90"
      },
      "source": [
        "Welcome everyone!!!\n",
        "In this session, we are going to explore and learn how to analyse and use the spectroscopic daata of the solar corona obtained from Hinode/EIS and SDO/AIA\n"
      ]
    },
    {
      "cell_type": "markdown",
      "id": "cb64799b",
      "metadata": {
        "id": "cb64799b"
      },
      "source": [
        "We will use python in our project. However, we do not have install any program since we can run it on a browser through Google Colab. Colab allow us to connect to computer on google server and do our python stuff through Notebook like this one for certain amount of time."
      ]
    },
    {
      "cell_type": "markdown",
      "id": "b770e214",
      "metadata": {
        "id": "b770e214"
      },
      "source": [
        "Notebook is divided in to multiple cells which contains block of codes\n",
        "- You can run each cell by pressing Shift+Enter on keyboard\n",
        "- You can edit or mess around any code, it will not affect the actual source code unless you save it as a copy to github.\n",
        "- To comment each line of code (i.e, prevent that line of code from running), type # in front of the line."
      ]
    },
    {
      "cell_type": "markdown",
      "id": "b2473fcf",
      "metadata": {
        "id": "b2473fcf"
      },
      "source": [
        "Note that Colab does not store any data once we disconnect, so we have to install these libraries every time we start a new session."
      ]
    },
    {
      "cell_type": "markdown",
      "id": "40ca877a",
      "metadata": {
        "id": "40ca877a"
      },
      "source": [
        "## Installing relevant modules"
      ]
    },
    {
      "cell_type": "markdown",
      "id": "ab4635af",
      "metadata": {
        "id": "ab4635af"
      },
      "source": [
        "Some python libraries we are going to use today is not availiable on Colab. Therefore, we have to download them first using the command below."
      ]
    },
    {
      "cell_type": "code",
      "execution_count": 1,
      "id": "bfcab69e",
      "metadata": {
        "colab": {
          "base_uri": "https://localhost:8080/"
        },
        "id": "bfcab69e",
        "outputId": "756b7b45-6622-420f-bea1-104836e75c6d"
      },
      "outputs": [
        {
          "output_type": "stream",
          "name": "stdout",
          "text": [
            "\u001b[2K   \u001b[90m━━━━━━━━━━━━━━━━━━━━━━━━━━━━━━━━━━━━━━━━\u001b[0m \u001b[32m3.4/3.4 MB\u001b[0m \u001b[31m21.5 MB/s\u001b[0m eta \u001b[36m0:00:00\u001b[0m\n",
            "\u001b[2K   \u001b[90m━━━━━━━━━━━━━━━━━━━━━━━━━━━━━━━━━━━━━━━━\u001b[0m \u001b[32m961.9/961.9 kB\u001b[0m \u001b[31m38.0 MB/s\u001b[0m eta \u001b[36m0:00:00\u001b[0m\n",
            "\u001b[2K   \u001b[90m━━━━━━━━━━━━━━━━━━━━━━━━━━━━━━━━━━━━━━━━\u001b[0m \u001b[32m93.2/93.2 kB\u001b[0m \u001b[31m5.3 MB/s\u001b[0m eta \u001b[36m0:00:00\u001b[0m\n",
            "\u001b[2K   \u001b[90m━━━━━━━━━━━━━━━━━━━━━━━━━━━━━━━━━━━━━━━━\u001b[0m \u001b[32m2.7/2.7 MB\u001b[0m \u001b[31m37.8 MB/s\u001b[0m eta \u001b[36m0:00:00\u001b[0m\n",
            "\u001b[2K   \u001b[90m━━━━━━━━━━━━━━━━━━━━━━━━━━━━━━━━━━━━━━━━\u001b[0m \u001b[32m1.7/1.7 MB\u001b[0m \u001b[31m29.7 MB/s\u001b[0m eta \u001b[36m0:00:00\u001b[0m\n",
            "\u001b[2K   \u001b[90m━━━━━━━━━━━━━━━━━━━━━━━━━━━━━━━━━━━━━━━━\u001b[0m \u001b[32m81.9/81.9 kB\u001b[0m \u001b[31m5.6 MB/s\u001b[0m eta \u001b[36m0:00:00\u001b[0m\n",
            "\u001b[2K   \u001b[90m━━━━━━━━━━━━━━━━━━━━━━━━━━━━━━━━━━━━━━━━\u001b[0m \u001b[32m275.4/275.4 kB\u001b[0m \u001b[31m14.0 MB/s\u001b[0m eta \u001b[36m0:00:00\u001b[0m\n",
            "\u001b[2K   \u001b[90m━━━━━━━━━━━━━━━━━━━━━━━━━━━━━━━━━━━━━━━━\u001b[0m \u001b[32m78.3/78.3 kB\u001b[0m \u001b[31m4.7 MB/s\u001b[0m eta \u001b[36m0:00:00\u001b[0m\n",
            "\u001b[2K   \u001b[90m━━━━━━━━━━━━━━━━━━━━━━━━━━━━━━━━━━━━━━━━\u001b[0m \u001b[32m44.0/44.0 kB\u001b[0m \u001b[31m2.5 MB/s\u001b[0m eta \u001b[36m0:00:00\u001b[0m\n",
            "\u001b[2K   \u001b[90m━━━━━━━━━━━━━━━━━━━━━━━━━━━━━━━━━━━━━━━━\u001b[0m \u001b[32m1.7/1.7 MB\u001b[0m \u001b[31m40.9 MB/s\u001b[0m eta \u001b[36m0:00:00\u001b[0m\n",
            "\u001b[2K   \u001b[90m━━━━━━━━━━━━━━━━━━━━━━━━━━━━━━━━━━━━━━━━\u001b[0m \u001b[32m101.7/101.7 kB\u001b[0m \u001b[31m7.3 MB/s\u001b[0m eta \u001b[36m0:00:00\u001b[0m\n",
            "\u001b[2K   \u001b[90m━━━━━━━━━━━━━━━━━━━━━━━━━━━━━━━━━━━━━━━━\u001b[0m \u001b[32m195.2/195.2 kB\u001b[0m \u001b[31m11.2 MB/s\u001b[0m eta \u001b[36m0:00:00\u001b[0m\n",
            "\u001b[2K   \u001b[90m━━━━━━━━━━━━━━━━━━━━━━━━━━━━━━━━━━━━━━━━\u001b[0m \u001b[32m196.4/196.4 kB\u001b[0m \u001b[31m12.4 MB/s\u001b[0m eta \u001b[36m0:00:00\u001b[0m\n",
            "\u001b[2K   \u001b[90m━━━━━━━━━━━━━━━━━━━━━━━━━━━━━━━━━━━━━━━━\u001b[0m \u001b[32m8.9/8.9 MB\u001b[0m \u001b[31m53.7 MB/s\u001b[0m eta \u001b[36m0:00:00\u001b[0m\n",
            "\u001b[2K   \u001b[90m━━━━━━━━━━━━━━━━━━━━━━━━━━━━━━━━━━━━━━━━\u001b[0m \u001b[32m53.7/53.7 kB\u001b[0m \u001b[31m3.6 MB/s\u001b[0m eta \u001b[36m0:00:00\u001b[0m\n",
            "\u001b[2K     \u001b[90m━━━━━━━━━━━━━━━━━━━━━━━━━━━━━━━━━━━━━━━━\u001b[0m \u001b[32m13.8/13.8 MB\u001b[0m \u001b[31m90.1 MB/s\u001b[0m eta \u001b[36m0:00:00\u001b[0m\n",
            "\u001b[?25h  Preparing metadata (setup.py) ... \u001b[?25l\u001b[?25hdone\n",
            "\u001b[2K     \u001b[90m━━━━━━━━━━━━━━━━━━━━━━━━━━━━━━━━━━━━━━━━\u001b[0m \u001b[32m62.0/62.0 kB\u001b[0m \u001b[31m4.1 MB/s\u001b[0m eta \u001b[36m0:00:00\u001b[0m\n",
            "\u001b[2K   \u001b[90m━━━━━━━━━━━━━━━━━━━━━━━━━━━━━━━━━━━━━━━━\u001b[0m \u001b[32m137.4/137.4 kB\u001b[0m \u001b[31m9.9 MB/s\u001b[0m eta \u001b[36m0:00:00\u001b[0m\n",
            "\u001b[2K   \u001b[90m━━━━━━━━━━━━━━━━━━━━━━━━━━━━━━━━━━━━━━━━\u001b[0m \u001b[32m169.8/169.8 kB\u001b[0m \u001b[31m14.2 MB/s\u001b[0m eta \u001b[36m0:00:00\u001b[0m\n",
            "\u001b[2K   \u001b[90m━━━━━━━━━━━━━━━━━━━━━━━━━━━━━━━━━━━━━━━━\u001b[0m \u001b[32m37.6/37.6 MB\u001b[0m \u001b[31m13.5 MB/s\u001b[0m eta \u001b[36m0:00:00\u001b[0m\n",
            "\u001b[2K   \u001b[90m━━━━━━━━━━━━━━━━━━━━━━━━━━━━━━━━━━━━━━━━\u001b[0m \u001b[32m486.2/486.2 kB\u001b[0m \u001b[31m29.5 MB/s\u001b[0m eta \u001b[36m0:00:00\u001b[0m\n",
            "\u001b[2K   \u001b[90m━━━━━━━━━━━━━━━━━━━━━━━━━━━━━━━━━━━━━━━━\u001b[0m \u001b[32m45.9/45.9 kB\u001b[0m \u001b[31m3.7 MB/s\u001b[0m eta \u001b[36m0:00:00\u001b[0m\n",
            "\u001b[2K   \u001b[90m━━━━━━━━━━━━━━━━━━━━━━━━━━━━━━━━━━━━━━━━\u001b[0m \u001b[32m241.0/241.0 kB\u001b[0m \u001b[31m19.8 MB/s\u001b[0m eta \u001b[36m0:00:00\u001b[0m\n",
            "\u001b[?25h  Building wheel for eispac (setup.py) ... \u001b[?25l\u001b[?25hdone\n",
            "\u001b[31mERROR: pip's dependency resolver does not currently take into account all the packages that are installed. This behaviour is the source of the following dependency conflicts.\n",
            "gensim 4.3.3 requires scipy<1.14.0,>=1.7.0, but you have scipy 1.15.2 which is incompatible.\u001b[0m\u001b[31m\n",
            "\u001b[0mCollecting sunkit-image\n",
            "  Downloading sunkit_image-0.6.1-py3-none-any.whl.metadata (4.4 kB)\n",
            "Requirement already satisfied: astropy>=5.3.0 in /usr/local/lib/python3.11/dist-packages (from sunkit-image) (7.0.1)\n",
            "Requirement already satisfied: numpy>=1.23.5 in /usr/local/lib/python3.11/dist-packages (from sunkit-image) (1.26.4)\n",
            "Requirement already satisfied: matplotlib>=3.5.0 in /usr/local/lib/python3.11/dist-packages (from sunkit-image) (3.10.0)\n",
            "Requirement already satisfied: scipy>=1.10.1 in /usr/local/lib/python3.11/dist-packages (from sunkit-image) (1.15.2)\n",
            "Requirement already satisfied: scikit-image>=0.20.0 in /usr/local/lib/python3.11/dist-packages (from sunkit-image) (0.25.2)\n",
            "Requirement already satisfied: sunpy>=6.0.0 in /usr/local/lib/python3.11/dist-packages (from sunpy[map]>=6.0.0->sunkit-image) (6.1.1)\n",
            "Requirement already satisfied: pyerfa>=2.0.1.1 in /usr/local/lib/python3.11/dist-packages (from astropy>=5.3.0->sunkit-image) (2.0.1.5)\n",
            "Requirement already satisfied: astropy-iers-data>=0.2025.1.31.12.41.4 in /usr/local/lib/python3.11/dist-packages (from astropy>=5.3.0->sunkit-image) (0.2025.3.3.0.34.45)\n",
            "Requirement already satisfied: PyYAML>=6.0.0 in /usr/local/lib/python3.11/dist-packages (from astropy>=5.3.0->sunkit-image) (6.0.2)\n",
            "Requirement already satisfied: packaging>=22.0.0 in /usr/local/lib/python3.11/dist-packages (from astropy>=5.3.0->sunkit-image) (24.2)\n",
            "Requirement already satisfied: contourpy>=1.0.1 in /usr/local/lib/python3.11/dist-packages (from matplotlib>=3.5.0->sunkit-image) (1.3.1)\n",
            "Requirement already satisfied: cycler>=0.10 in /usr/local/lib/python3.11/dist-packages (from matplotlib>=3.5.0->sunkit-image) (0.12.1)\n",
            "Requirement already satisfied: fonttools>=4.22.0 in /usr/local/lib/python3.11/dist-packages (from matplotlib>=3.5.0->sunkit-image) (4.56.0)\n",
            "Requirement already satisfied: kiwisolver>=1.3.1 in /usr/local/lib/python3.11/dist-packages (from matplotlib>=3.5.0->sunkit-image) (1.4.8)\n",
            "Requirement already satisfied: pillow>=8 in /usr/local/lib/python3.11/dist-packages (from matplotlib>=3.5.0->sunkit-image) (11.1.0)\n",
            "Requirement already satisfied: pyparsing>=2.3.1 in /usr/local/lib/python3.11/dist-packages (from matplotlib>=3.5.0->sunkit-image) (3.2.1)\n",
            "Requirement already satisfied: python-dateutil>=2.7 in /usr/local/lib/python3.11/dist-packages (from matplotlib>=3.5.0->sunkit-image) (2.8.2)\n",
            "Requirement already satisfied: networkx>=3.0 in /usr/local/lib/python3.11/dist-packages (from scikit-image>=0.20.0->sunkit-image) (3.4.2)\n",
            "Requirement already satisfied: imageio!=2.35.0,>=2.33 in /usr/local/lib/python3.11/dist-packages (from scikit-image>=0.20.0->sunkit-image) (2.37.0)\n",
            "Requirement already satisfied: tifffile>=2022.8.12 in /usr/local/lib/python3.11/dist-packages (from scikit-image>=0.20.0->sunkit-image) (2025.2.18)\n",
            "Requirement already satisfied: lazy-loader>=0.4 in /usr/local/lib/python3.11/dist-packages (from scikit-image>=0.20.0->sunkit-image) (0.4)\n",
            "Requirement already satisfied: parfive>=2.0.0 in /usr/local/lib/python3.11/dist-packages (from parfive[ftp]>=2.0.0->sunpy>=6.0.0->sunpy[map]>=6.0.0->sunkit-image) (2.1.0)\n",
            "Requirement already satisfied: requests>=2.28.0 in /usr/local/lib/python3.11/dist-packages (from sunpy>=6.0.0->sunpy[map]>=6.0.0->sunkit-image) (2.32.3)\n",
            "Requirement already satisfied: fsspec>=2023.3.0 in /usr/local/lib/python3.11/dist-packages (from sunpy>=6.0.0->sunpy[map]>=6.0.0->sunkit-image) (2024.10.0)\n",
            "Requirement already satisfied: mpl-animators>=1.0.0 in /usr/local/lib/python3.11/dist-packages (from sunpy[map]>=6.0.0->sunkit-image) (1.2.0)\n",
            "Requirement already satisfied: reproject>=0.10.0 in /usr/local/lib/python3.11/dist-packages (from sunpy[map]>=6.0.0->sunkit-image) (0.14.1)\n",
            "Requirement already satisfied: tqdm>=4.27.0 in /usr/local/lib/python3.11/dist-packages (from parfive>=2.0.0->parfive[ftp]>=2.0.0->sunpy>=6.0.0->sunpy[map]>=6.0.0->sunkit-image) (4.67.1)\n",
            "Requirement already satisfied: aiohttp in /usr/local/lib/python3.11/dist-packages (from parfive>=2.0.0->parfive[ftp]>=2.0.0->sunpy>=6.0.0->sunpy[map]>=6.0.0->sunkit-image) (3.11.13)\n",
            "Requirement already satisfied: aioftp>=0.17.1 in /usr/local/lib/python3.11/dist-packages (from parfive[ftp]>=2.0.0->sunpy>=6.0.0->sunpy[map]>=6.0.0->sunkit-image) (0.24.1)\n",
            "Requirement already satisfied: six>=1.5 in /usr/local/lib/python3.11/dist-packages (from python-dateutil>=2.7->matplotlib>=3.5.0->sunkit-image) (1.17.0)\n",
            "Requirement already satisfied: astropy-healpix>=1.0 in /usr/local/lib/python3.11/dist-packages (from reproject>=0.10.0->sunpy[map]>=6.0.0->sunkit-image) (1.1.2)\n",
            "Requirement already satisfied: dask>=2021.8 in /usr/local/lib/python3.11/dist-packages (from dask[array]>=2021.8->reproject>=0.10.0->sunpy[map]>=6.0.0->sunkit-image) (2024.12.1)\n",
            "Requirement already satisfied: cloudpickle in /usr/local/lib/python3.11/dist-packages (from reproject>=0.10.0->sunpy[map]>=6.0.0->sunkit-image) (3.1.1)\n",
            "Requirement already satisfied: zarr in /usr/local/lib/python3.11/dist-packages (from reproject>=0.10.0->sunpy[map]>=6.0.0->sunkit-image) (3.0.5)\n",
            "Requirement already satisfied: charset-normalizer<4,>=2 in /usr/local/lib/python3.11/dist-packages (from requests>=2.28.0->sunpy>=6.0.0->sunpy[map]>=6.0.0->sunkit-image) (3.4.1)\n",
            "Requirement already satisfied: idna<4,>=2.5 in /usr/local/lib/python3.11/dist-packages (from requests>=2.28.0->sunpy>=6.0.0->sunpy[map]>=6.0.0->sunkit-image) (3.10)\n",
            "Requirement already satisfied: urllib3<3,>=1.21.1 in /usr/local/lib/python3.11/dist-packages (from requests>=2.28.0->sunpy>=6.0.0->sunpy[map]>=6.0.0->sunkit-image) (2.3.0)\n",
            "Requirement already satisfied: certifi>=2017.4.17 in /usr/local/lib/python3.11/dist-packages (from requests>=2.28.0->sunpy>=6.0.0->sunpy[map]>=6.0.0->sunkit-image) (2025.1.31)\n",
            "Requirement already satisfied: click>=8.1 in /usr/local/lib/python3.11/dist-packages (from dask>=2021.8->dask[array]>=2021.8->reproject>=0.10.0->sunpy[map]>=6.0.0->sunkit-image) (8.1.8)\n",
            "Requirement already satisfied: partd>=1.4.0 in /usr/local/lib/python3.11/dist-packages (from dask>=2021.8->dask[array]>=2021.8->reproject>=0.10.0->sunpy[map]>=6.0.0->sunkit-image) (1.4.2)\n",
            "Requirement already satisfied: toolz>=0.10.0 in /usr/local/lib/python3.11/dist-packages (from dask>=2021.8->dask[array]>=2021.8->reproject>=0.10.0->sunpy[map]>=6.0.0->sunkit-image) (0.12.1)\n",
            "Requirement already satisfied: importlib_metadata>=4.13.0 in /usr/local/lib/python3.11/dist-packages (from dask>=2021.8->dask[array]>=2021.8->reproject>=0.10.0->sunpy[map]>=6.0.0->sunkit-image) (8.6.1)\n",
            "Requirement already satisfied: aiohappyeyeballs>=2.3.0 in /usr/local/lib/python3.11/dist-packages (from aiohttp->parfive>=2.0.0->parfive[ftp]>=2.0.0->sunpy>=6.0.0->sunpy[map]>=6.0.0->sunkit-image) (2.4.6)\n",
            "Requirement already satisfied: aiosignal>=1.1.2 in /usr/local/lib/python3.11/dist-packages (from aiohttp->parfive>=2.0.0->parfive[ftp]>=2.0.0->sunpy>=6.0.0->sunpy[map]>=6.0.0->sunkit-image) (1.3.2)\n",
            "Requirement already satisfied: attrs>=17.3.0 in /usr/local/lib/python3.11/dist-packages (from aiohttp->parfive>=2.0.0->parfive[ftp]>=2.0.0->sunpy>=6.0.0->sunpy[map]>=6.0.0->sunkit-image) (25.1.0)\n",
            "Requirement already satisfied: frozenlist>=1.1.1 in /usr/local/lib/python3.11/dist-packages (from aiohttp->parfive>=2.0.0->parfive[ftp]>=2.0.0->sunpy>=6.0.0->sunpy[map]>=6.0.0->sunkit-image) (1.5.0)\n",
            "Requirement already satisfied: multidict<7.0,>=4.5 in /usr/local/lib/python3.11/dist-packages (from aiohttp->parfive>=2.0.0->parfive[ftp]>=2.0.0->sunpy>=6.0.0->sunpy[map]>=6.0.0->sunkit-image) (6.1.0)\n",
            "Requirement already satisfied: propcache>=0.2.0 in /usr/local/lib/python3.11/dist-packages (from aiohttp->parfive>=2.0.0->parfive[ftp]>=2.0.0->sunpy>=6.0.0->sunpy[map]>=6.0.0->sunkit-image) (0.3.0)\n",
            "Requirement already satisfied: yarl<2.0,>=1.17.0 in /usr/local/lib/python3.11/dist-packages (from aiohttp->parfive>=2.0.0->parfive[ftp]>=2.0.0->sunpy>=6.0.0->sunpy[map]>=6.0.0->sunkit-image) (1.18.3)\n",
            "Requirement already satisfied: donfig>=0.8 in /usr/local/lib/python3.11/dist-packages (from zarr->reproject>=0.10.0->sunpy[map]>=6.0.0->sunkit-image) (0.8.1.post1)\n",
            "Requirement already satisfied: numcodecs>=0.14 in /usr/local/lib/python3.11/dist-packages (from numcodecs[crc32c]>=0.14->zarr->reproject>=0.10.0->sunpy[map]>=6.0.0->sunkit-image) (0.15.1)\n",
            "Requirement already satisfied: typing-extensions>=4.9 in /usr/local/lib/python3.11/dist-packages (from zarr->reproject>=0.10.0->sunpy[map]>=6.0.0->sunkit-image) (4.12.2)\n",
            "Requirement already satisfied: zipp>=3.20 in /usr/local/lib/python3.11/dist-packages (from importlib_metadata>=4.13.0->dask>=2021.8->dask[array]>=2021.8->reproject>=0.10.0->sunpy[map]>=6.0.0->sunkit-image) (3.21.0)\n",
            "Requirement already satisfied: deprecated in /usr/local/lib/python3.11/dist-packages (from numcodecs>=0.14->numcodecs[crc32c]>=0.14->zarr->reproject>=0.10.0->sunpy[map]>=6.0.0->sunkit-image) (1.2.18)\n",
            "Requirement already satisfied: crc32c>=2.7 in /usr/local/lib/python3.11/dist-packages (from numcodecs[crc32c]>=0.14->zarr->reproject>=0.10.0->sunpy[map]>=6.0.0->sunkit-image) (2.7.1)\n",
            "Requirement already satisfied: locket in /usr/local/lib/python3.11/dist-packages (from partd>=1.4.0->dask>=2021.8->dask[array]>=2021.8->reproject>=0.10.0->sunpy[map]>=6.0.0->sunkit-image) (1.0.0)\n",
            "Requirement already satisfied: wrapt<2,>=1.10 in /usr/local/lib/python3.11/dist-packages (from deprecated->numcodecs>=0.14->numcodecs[crc32c]>=0.14->zarr->reproject>=0.10.0->sunpy[map]>=6.0.0->sunkit-image) (1.17.2)\n",
            "Downloading sunkit_image-0.6.1-py3-none-any.whl (6.5 MB)\n",
            "\u001b[2K   \u001b[90m━━━━━━━━━━━━━━━━━━━━━━━━━━━━━━━━━━━━━━━━\u001b[0m \u001b[32m6.5/6.5 MB\u001b[0m \u001b[31m86.1 MB/s\u001b[0m eta \u001b[36m0:00:00\u001b[0m\n",
            "\u001b[?25hInstalling collected packages: sunkit-image\n",
            "Successfully installed sunkit-image-0.6.1\n"
          ]
        }
      ],
      "source": [
        "!pip install astropy>=5.1\n",
        "!pip install -q sunpy[all]\n",
        "!pip install -q eispac[all]\n",
        "!pip install -U sunkit-image"
      ]
    },
    {
      "cell_type": "markdown",
      "id": "5afeeca7",
      "metadata": {
        "id": "5afeeca7"
      },
      "source": [
        "## Load libraries we need for fitting spectral lines and making EIS maps"
      ]
    },
    {
      "cell_type": "code",
      "execution_count": 2,
      "id": "5f48afb6",
      "metadata": {
        "id": "5f48afb6"
      },
      "outputs": [],
      "source": [
        "import numpy as np\n",
        "import matplotlib.pyplot as plt\n",
        "from matplotlib import colors\n",
        "import sunpy\n",
        "import sunpy.map\n",
        "import sunkit_image.coalignment\n",
        "from pathlib import Path\n",
        "import os\n",
        "import astropy.units as u\n",
        "import eispac\n",
        "# from eispac.net.attrs import FileType\n",
        "from astropy.coordinates import SkyCoord\n",
        "from sunpy.net import Fido,attrs as a\n",
        "from sunpy.time import parse_time\n",
        "from astropy.visualization import ImageNormalize\n",
        "\n",
        "# list of templates for fitting some line profiles\n",
        "templates_list = {\n",
        "    'fe_10_184_536' : ['fe_10_184_536.1c.template.h5', 0],\n",
        "    'fe_08_185_213' : ['fe_08_185_213.1c.template.h5', 0],\n",
        "    'fe_11_188_216' : ['fe_11_188_216.2c.template.h5', 0],\n",
        "    'fe_11_188_299' : ['fe_11_188_299.2c.template.h5', 1],\n",
        "    'fe_09_188_497' : ['fe_09_188_497.3c.template.h5', 0],\n",
        "    'ca_14_193_874' : ['ca_14_193_874.6c.template.h5', 1],\n",
        "    'ar_14_194_396' : ['ar_14_194_396.6c.template.h5', 5],\n",
        "    'fe_12_195_119' : ['fe_12_195_119.2c.template.h5', 0],\n",
        "    'fe_13_201_121' : ['fe_13_201_121.2c.template.h5', 1],\n",
        "    'fe_13_202_044' : ['fe_13_202_044.1c.template.h5', 0],\n",
        "    'fe_13_203_826' : ['fe_13_203_826.2c.template.h5', 1],\n",
        "    'si_10_258_375' : ['si_10_258_375.1c.template.h5', 0],\n",
        "    'si_10_261_058' : ['si_10_261_058.1c.template.h5', 0],\n",
        "    'fe_16_262_984' : ['fe_16_262_984.1c.template.h5', 0],\n",
        "    's_10_264_233' : ['s__10_264_233.1c.template.h5', 0],\n",
        "    'fe_14_264_787' : ['fe_14_264_787.1c.template.h5', 0],\n",
        "    'fe_15_284_160' : ['fe_15_284_160.2c.template.h5', 1]}\n"
      ]
    },
    {
      "cell_type": "markdown",
      "id": "98d3a589",
      "metadata": {
        "id": "98d3a589"
      },
      "source": [
        "## Download the Hinode/EIS data from online database (May took a while)\n",
        "\n",
        "The prepped EIS data are stored at https://eis.nrl.navy.mil/"
      ]
    },
    {
      "cell_type": "code",
      "execution_count": 3,
      "id": "88dc92db",
      "metadata": {
        "colab": {
          "base_uri": "https://localhost:8080/",
          "height": 170,
          "referenced_widgets": [
            "335f0903e95f42a9b1edf62ff4dc2015",
            "2b9b278f505c4b2e8c26c08a6749ff95",
            "03eb5cddb8654a46b34a2c31f8d5199b",
            "23e23f8f69ae46f59b576b950a180168",
            "d47b6f04f29749e4949d3641e43fb4f7",
            "07de8c40881940f78a4c505dc49e6884",
            "00d8f08744a64a35a7aafa6e7a64cf4e",
            "ecf6620d801c49ee8cae9eae9a3c6cd4",
            "7ef225136c0c44818d12c454990d13ba",
            "133dba3541d04562be32b3042b30cd6e",
            "d521c5b711684441a314c470c74593c5",
            "c6e815fc474b401799f4bdb19d4e1ca1",
            "23048ba323a6439abcf0ba226ba89a99",
            "40e04638c6db48ada993a5c7fc179176",
            "a02ceb1e603d434d884a4e2a1981a201",
            "671b2afac5da48e6b2ca8f1f91d163e2",
            "c8f5c67131bf47209e5afdd27725e45c",
            "7dcbf8425a5c4a7b9906ac59607d57d9",
            "01b606d1b1764535bc37d6a4ddf5b8a3",
            "dd3066bbc93048f18a53c66f4543062f",
            "dc511a7777b34d97a3463f8513b2cd51",
            "359cce43716c402eb08952ddd3d64169",
            "1058062a8c594b3793a96528f6c45d9d",
            "ea57ec2797c94675b19156351004737c",
            "ea62f458279c4c11a27dc60d926b1e1c",
            "2a295bc130a6479ebbb04791cd306b40",
            "d5ae63fed83c4c0f82bb1347cfc9389e",
            "5a6c551b1c5e449fa591b4eccdb5d7b8",
            "534b41ec3dba4ce1aaeb68e5a0e112ec",
            "2244d0274f8d4f1e8f35923eb958796d",
            "dd25da2d901543a0a5f53a23d3508174",
            "8af4be58efdd40bb9ddb5686dd272b19",
            "a50443faf30743ca9ea9426dee956816",
            "03f01afb1397430489d60c577fb34828",
            "87e7847197ca4b7b94142dedb2966e90",
            "d2240087fcc04c488168428dfa5dea56",
            "ba0ffc70ff904754ae44a8e626a1692b",
            "e03ad9f01afb49fbb6a9d13c184fff8f",
            "4c916f1735a94bf3af7dcd52f19a2294",
            "87955fc8a01b4c17bb6d893de1409f84",
            "7181fe0add01417caf57ca8ea5a417b8",
            "d16d5800aac1433db1fa979b11a3f521",
            "e5be3c0bac1a46d5b0c5d8171ba9a035",
            "1ece552a94724e24b0729333fec5fc2e"
          ]
        },
        "id": "88dc92db",
        "outputId": "0c49ff39-878b-42ac-d6d2-eb8d1aa4b0b2"
      },
      "outputs": [
        {
          "output_type": "stream",
          "name": "stdout",
          "text": [
            " + created data_eis\n",
            "+ downloading https://eis.nrl.navy.mil/level1/hdf5/2011/02/08/eis_20110208_153218.data.h5 -> data_eis/eis_20110208_153218.data.h5\n"
          ]
        },
        {
          "output_type": "display_data",
          "data": {
            "text/plain": [
              "Files Downloaded:   0%|          | 0/1 [00:00<?, ?file/s]"
            ],
            "application/vnd.jupyter.widget-view+json": {
              "version_major": 2,
              "version_minor": 0,
              "model_id": "335f0903e95f42a9b1edf62ff4dc2015"
            }
          },
          "metadata": {}
        },
        {
          "output_type": "display_data",
          "data": {
            "text/plain": [
              "eis_20110208_153218.data.h5.part:   0%|          | 0.00/64.9M [00:00<?, ?B/s]"
            ],
            "application/vnd.jupyter.widget-view+json": {
              "version_major": 2,
              "version_minor": 0,
              "model_id": "c6e815fc474b401799f4bdb19d4e1ca1"
            }
          },
          "metadata": {}
        },
        {
          "output_type": "stream",
          "name": "stdout",
          "text": [
            "\n",
            "+ downloading https://eis.nrl.navy.mil/level1/hdf5/2011/02/08/eis_20110208_153218.head.h5 -> data_eis/eis_20110208_153218.head.h5\n"
          ]
        },
        {
          "output_type": "display_data",
          "data": {
            "text/plain": [
              "Files Downloaded:   0%|          | 0/1 [00:00<?, ?file/s]"
            ],
            "application/vnd.jupyter.widget-view+json": {
              "version_major": 2,
              "version_minor": 0,
              "model_id": "1058062a8c594b3793a96528f6c45d9d"
            }
          },
          "metadata": {}
        },
        {
          "output_type": "display_data",
          "data": {
            "text/plain": [
              "eis_20110208_153218.head.h5.part:   0%|          | 0.00/401k [00:00<?, ?B/s]"
            ],
            "application/vnd.jupyter.widget-view+json": {
              "version_major": 2,
              "version_minor": 0,
              "model_id": "03f01afb1397430489d60c577fb34828"
            }
          },
          "metadata": {}
        },
        {
          "output_type": "stream",
          "name": "stdout",
          "text": [
            "\n"
          ]
        }
      ],
      "source": [
        "EISfile = eispac.db.download_hdf5_data('eis_20110208_153218.data.h5')"
      ]
    },
    {
      "cell_type": "markdown",
      "id": "7418d249",
      "metadata": {
        "id": "7418d249"
      },
      "source": [
        "if the code above does not work, you can download the file manually from the following link. Only run this one block below if there is an error in previous block"
      ]
    },
    {
      "cell_type": "code",
      "execution_count": null,
      "id": "b6aba2b7",
      "metadata": {
        "id": "b6aba2b7"
      },
      "outputs": [],
      "source": [
        "# if the code above does not work, you can download the file manually from the following link:\n",
        "import urllib.request\n",
        "\n",
        "# Check if EISfile variable is defined\n",
        "if 'EISfile' not in locals():\n",
        "    os.makedirs('./data_eis', exist_ok=True)\n",
        "    url1 = 'https://www.mssl.ucl.ac.uk/~nn2/EIS_Tutorial_data/eis_20110208_153218.data.h5'\n",
        "    urllib.request.urlretrieve(url1, './data_eis/eis_20110208_153218.data.h5')\n",
        "    url2 = 'https://www.mssl.ucl.ac.uk/~nn2/EIS_Tutorial_data/eis_20110208_153218.head.h5'\n",
        "    urllib.request.urlretrieve(url2, './data_eis/eis_20110208_153218.head.h5')"
      ]
    },
    {
      "cell_type": "markdown",
      "id": "05f22903",
      "metadata": {
        "id": "05f22903"
      },
      "source": [
        "You can find that the folder 'data_eis' is created and shown on the panel on the left. Inside the folder, you will see two file which ends with .h5. These are the EIS data that we will be using."
      ]
    },
    {
      "cell_type": "markdown",
      "id": "bd22f507",
      "metadata": {
        "id": "bd22f507"
      },
      "source": [
        "## Select the dataset and the spectral line we want to fit"
      ]
    },
    {
      "cell_type": "code",
      "execution_count": 4,
      "id": "5a8944ac",
      "metadata": {
        "id": "5a8944ac"
      },
      "outputs": [],
      "source": [
        "data_filename = './data_eis/eis_20110208_153218.data.h5' # path to the file (don't forget to include folder name)\n",
        "line = 'fe_12_195_119' # choose the spectral line to look and fit\n",
        "template = eispac.read_template(eispac.data.get_fit_template_filepath(templates_list[line][0]))"
      ]
    },
    {
      "cell_type": "markdown",
      "id": "3653a4e4",
      "metadata": {
        "id": "3653a4e4"
      },
      "source": [
        "## Reading and inspecting the data"
      ]
    },
    {
      "cell_type": "code",
      "execution_count": 5,
      "id": "4814f96f",
      "metadata": {
        "colab": {
          "base_uri": "https://localhost:8080/"
        },
        "id": "4814f96f",
        "outputId": "9b2cbf78-6975-4bb9-d80a-bf2a880acc46"
      },
      "outputs": [
        {
          "output_type": "stream",
          "name": "stdout",
          "text": [
            "Data file,\n",
            "   /content/data_eis/eis_20110208_153218.data.h5\n",
            "Header file,\n",
            "   /content/data_eis/eis_20110208_153218.head.h5\n",
            "Found a wavelength 195.11 [Angstroms] in window 5\n"
          ]
        }
      ],
      "source": [
        "cube = eispac.read_cube(data_filename, window=template.central_wave) # read the data at our desired wavelength"
      ]
    },
    {
      "cell_type": "code",
      "execution_count": 6,
      "id": "3576eef9",
      "metadata": {
        "colab": {
          "base_uri": "https://localhost:8080/"
        },
        "id": "3576eef9",
        "outputId": "2a4fe793-c765-4f93-8e13-2a54eea8e4ae"
      },
      "outputs": [
        {
          "output_type": "stream",
          "name": "stdout",
          "text": [
            "[512.  60.  48.] pix\n"
          ]
        },
        {
          "output_type": "stream",
          "name": "stderr",
          "text": [
            "/usr/local/lib/python3.11/dist-packages/ndcube/ndcube.py:471: NDCubeDeprecationWarning: Replaced by ndcube.NDCube.shape\n",
            "  warn_deprecated(\"Replaced by ndcube.NDCube.shape\")\n"
          ]
        }
      ],
      "source": [
        "# see the dimensions of the data cube\n",
        "print(cube.dimensions) # (y-axis, x-axis, wavelength-axis)"
      ]
    },
    {
      "cell_type": "code",
      "execution_count": 7,
      "id": "cc879bc5",
      "metadata": {
        "id": "cc879bc5",
        "outputId": "7d7b43ab-153d-4734-d69d-10f62710e3fd",
        "colab": {
          "base_uri": "https://localhost:8080/"
        }
      },
      "outputs": [
        {
          "output_type": "stream",
          "name": "stdout",
          "text": [
            "2011-02-08T15:32:18.000 , 2011-02-08T16:20:46.000\n"
          ]
        }
      ],
      "source": [
        "# see the time of the observations (start,  end)\n",
        "print(cube.meta['mod_index']['date_beg'], ',' , cube.meta['mod_index']['date_end'])"
      ]
    },
    {
      "cell_type": "markdown",
      "id": "a08e7e9b",
      "metadata": {
        "id": "a08e7e9b"
      },
      "source": [
        "Let's look at the spectra profile from one random pixel"
      ]
    },
    {
      "cell_type": "code",
      "execution_count": 8,
      "id": "f2f72031",
      "metadata": {
        "id": "f2f72031",
        "outputId": "2381e1e0-1a08-4780-f23c-a60dcbda0e7e",
        "colab": {
          "base_uri": "https://localhost:8080/",
          "height": 490
        }
      },
      "outputs": [
        {
          "output_type": "execute_result",
          "data": {
            "text/plain": [
              "<matplotlib.lines.Line2D at 0x78a1cee35d10>"
            ]
          },
          "metadata": {},
          "execution_count": 8
        },
        {
          "output_type": "display_data",
          "data": {
            "text/plain": [
              "<Figure size 640x480 with 1 Axes>"
            ],
            "image/png": "[encoded data removed]"
          },
          "metadata": {}
        }
      ],
      "source": [
        "ix = 48 # pixel index in the x-axis\n",
        "iy = 326 # pixel index in the y-axis\n",
        "\n",
        "spec_inten = cube.data[iy,ix,:] # intensity\n",
        "spec_wave = cube.wavelength[iy,ix,:] # wavelength\n",
        "spec_err = cube.uncertainty.array[iy,ix,:] #error\n",
        "\n",
        "\n",
        "# plot the spectrum\n",
        "plt.figure()\n",
        "plt.errorbar(spec_wave, spec_inten, yerr=spec_err, fmt='-')\n",
        "plt.xlabel('Wavelength [Angstrom]')\n",
        "plt.ylabel('Intensity')\n",
        "plt.title(f'Cutout indices: iy = {iy}, ix = {ix}')\n",
        "plt.ylim(0, 1.1*np.max(spec_inten))\n",
        "plt.xlim(template.central_wave - 0.5, template.central_wave + 0.5)\n",
        "plt.axvline(template.central_wave, color='r', linestyle='--', label=f'{template.central_wave:.2f} [$\\AA$]')\n"
      ]
    },
    {
      "cell_type": "markdown",
      "id": "2f95af0b",
      "metadata": {
        "id": "2f95af0b"
      },
      "source": [
        "We can also plot the quicklook of EIS data - to get the idea on what feature Hinode/EIS was looking at when it made observation.\n",
        "\n",
        "Note that at this stage, we have not done any analysis yet, so this quicklook can't be used for scientific interpretation."
      ]
    },
    {
      "cell_type": "code",
      "execution_count": 9,
      "id": "8ba1b326",
      "metadata": {
        "id": "8ba1b326",
        "outputId": "be9b9bbc-83e1-4301-ad1e-c4fbeefdcf5f",
        "colab": {
          "base_uri": "https://localhost:8080/",
          "height": 543
        }
      },
      "outputs": [
        {
          "output_type": "stream",
          "name": "stderr",
          "text": [
            "<ipython-input-9-caa8f0fde792>:4: RuntimeWarning: divide by zero encountered in log10\n",
            "  scaled_img = np.log10(raster_sum)\n",
            "<ipython-input-9-caa8f0fde792>:4: RuntimeWarning: invalid value encountered in log10\n",
            "  scaled_img = np.log10(raster_sum)\n"
          ]
        },
        {
          "output_type": "display_data",
          "data": {
            "text/plain": [
              "<Figure size 640x480 with 2 Axes>"
            ],
            "image/png": "[encoded data removed]"
          },
          "metadata": {}
        }
      ],
      "source": [
        "# sum the data along the wavelength axis to create an image\n",
        "raster_sum = np.sum(cube.data, axis=2)\n",
        "# take the log10 of the sum to make the image more visible\n",
        "scaled_img = np.log10(raster_sum)\n",
        "\n",
        "plt.figure()\n",
        "plt.imshow(scaled_img, origin='lower', extent=cube.meta['extent_arcsec'], cmap='plasma')\n",
        "plt.title(cube.meta['date_obs'][-1])\n",
        "plt.xlabel('Solar-X [arcsec]')\n",
        "plt.ylabel('Solar-Y [arcsec]')\n",
        "plt.colorbar()\n",
        "plt.show()\n"
      ]
    },
    {
      "cell_type": "markdown",
      "id": "f07961c0",
      "metadata": {
        "id": "f07961c0"
      },
      "source": [
        "## Spectral line fitting\n",
        "We now fit the line chosen earlier in each pixel of the EIS dataset."
      ]
    },
    {
      "cell_type": "markdown",
      "id": "fc27d881",
      "metadata": {
        "id": "fc27d881"
      },
      "source": [
        "### Pop quiz: Which function is suitable for fitting spectral data, and why??"
      ]
    },
    {
      "cell_type": "code",
      "execution_count": null,
      "id": "7cfffcc4",
      "metadata": {
        "id": "7cfffcc4"
      },
      "outputs": [],
      "source": [
        "# write your answer here (after the # sign)\n",
        "#"
      ]
    },
    {
      "cell_type": "code",
      "execution_count": 11,
      "id": "82af16e9",
      "metadata": {
        "colab": {
          "base_uri": "https://localhost:8080/",
          "height": 521
        },
        "id": "82af16e9",
        "outputId": "ac82192b-bd88-4c1d-ed4c-829d74be07a0"
      },
      "outputs": [
        {
          "output_type": "stream",
          "name": "stdout",
          "text": [
            "let's fit\n",
            "Data file,\n",
            "   /content/data_eis/eis_20110208_153218.data.h5\n",
            "Header file,\n",
            "   /content/data_eis/eis_20110208_153218.head.h5\n",
            "Found a wavelength 195.11 [Angstroms] in window 5\n",
            "WARNING: no name guard was found in the top-level script! Falling back to a single process for safety.\n",
            " + computing fits for 60 exposures, each with 512 spectra\n",
            " + running mpfit in a single process\n"
          ]
        },
        {
          "output_type": "error",
          "ename": "KeyboardInterrupt",
          "evalue": "",
          "traceback": [
            "\u001b[0;31m---------------------------------------------------------------------------\u001b[0m",
            "\u001b[0;31mKeyboardInterrupt\u001b[0m                         Traceback (most recent call last)",
            "\u001b[0;32m<ipython-input-11-909c68ca058e>\u001b[0m in \u001b[0;36m<cell line: 0>\u001b[0;34m()\u001b[0m\n\u001b[1;32m      5\u001b[0m     \u001b[0;31m#if the file is not there, fit the line\u001b[0m\u001b[0;34m\u001b[0m\u001b[0;34m\u001b[0m\u001b[0m\n\u001b[1;32m      6\u001b[0m     \u001b[0mcube\u001b[0m \u001b[0;34m=\u001b[0m \u001b[0meispac\u001b[0m\u001b[0;34m.\u001b[0m\u001b[0mread_cube\u001b[0m\u001b[0;34m(\u001b[0m\u001b[0mdata_filename\u001b[0m\u001b[0;34m,\u001b[0m \u001b[0mwindow\u001b[0m\u001b[0;34m=\u001b[0m\u001b[0mtemplate\u001b[0m\u001b[0;34m.\u001b[0m\u001b[0mcentral_wave\u001b[0m\u001b[0;34m)\u001b[0m\u001b[0;34m\u001b[0m\u001b[0;34m\u001b[0m\u001b[0m\n\u001b[0;32m----> 7\u001b[0;31m     \u001b[0mfit_res\u001b[0m \u001b[0;34m=\u001b[0m \u001b[0meispac\u001b[0m\u001b[0;34m.\u001b[0m\u001b[0mfit_spectra\u001b[0m\u001b[0;34m(\u001b[0m\u001b[0mcube\u001b[0m\u001b[0;34m,\u001b[0m \u001b[0mtemplate\u001b[0m\u001b[0;34m,\u001b[0m \u001b[0mncpu\u001b[0m\u001b[0;34m=\u001b[0m\u001b[0;34m'max'\u001b[0m\u001b[0;34m)\u001b[0m\u001b[0;34m\u001b[0m\u001b[0;34m\u001b[0m\u001b[0m\n\u001b[0m\u001b[1;32m      8\u001b[0m     \u001b[0meispac\u001b[0m\u001b[0;34m.\u001b[0m\u001b[0msave_fit\u001b[0m\u001b[0;34m(\u001b[0m\u001b[0mfit_res\u001b[0m\u001b[0;34m)\u001b[0m\u001b[0;34m\u001b[0m\u001b[0;34m\u001b[0m\u001b[0m\n\u001b[1;32m      9\u001b[0m \u001b[0;32melse\u001b[0m\u001b[0;34m:\u001b[0m\u001b[0;34m\u001b[0m\u001b[0;34m\u001b[0m\u001b[0m\n",
            "\u001b[0;32m/usr/local/lib/python3.11/dist-packages/eispac/core/fit_spectra.py\u001b[0m in \u001b[0;36mfit_spectra\u001b[0;34m(inten, template, parinfo, wave, errs, min_points, ncpu, unsafe_mp, ignore_warnings, skip_fitting, debug)\u001b[0m\n\u001b[1;32m    387\u001b[0m         \u001b[0;32mif\u001b[0m \u001b[0mncpu\u001b[0m \u001b[0;34m==\u001b[0m \u001b[0;36m1\u001b[0m\u001b[0;34m:\u001b[0m\u001b[0;34m\u001b[0m\u001b[0;34m\u001b[0m\u001b[0m\n\u001b[1;32m    388\u001b[0m             \u001b[0mprint\u001b[0m\u001b[0;34m(\u001b[0m\u001b[0;34m' + running mpfit in a single process'\u001b[0m\u001b[0;34m)\u001b[0m\u001b[0;34m\u001b[0m\u001b[0;34m\u001b[0m\u001b[0m\n\u001b[0;32m--> 389\u001b[0;31m             fit_dict = fit_with_mpfit(wave_cube, inten_cube, errs_cube,\n\u001b[0m\u001b[1;32m    390\u001b[0m                                       \u001b[0mtemplate_copy\u001b[0m\u001b[0;34m,\u001b[0m \u001b[0mparinfo_copy\u001b[0m\u001b[0;34m,\u001b[0m \u001b[0mmin_points\u001b[0m\u001b[0;34m,\u001b[0m\u001b[0;34m\u001b[0m\u001b[0;34m\u001b[0m\u001b[0m\n\u001b[1;32m    391\u001b[0m                                       data_units=data_units)\n",
            "\u001b[0;32m/usr/local/lib/python3.11/dist-packages/eispac/core/fit_spectra.py\u001b[0m in \u001b[0;36mfit_with_mpfit\u001b[0;34m(wave_cube, inten_cube, errs_cube, template, parinfo, min_points, chunk, data_units)\u001b[0m\n\u001b[1;32m    129\u001b[0m \u001b[0;34m\u001b[0m\u001b[0m\n\u001b[1;32m    130\u001b[0m             \u001b[0;31m# Scale guess parameters to data (should speed up fitting some)\u001b[0m\u001b[0;34m\u001b[0m\u001b[0;34m\u001b[0m\u001b[0m\n\u001b[0;32m--> 131\u001b[0;31m             \u001b[0mnewguess\u001b[0m \u001b[0;34m=\u001b[0m \u001b[0mscale_guess\u001b[0m\u001b[0;34m(\u001b[0m\u001b[0mwave_ij\u001b[0m\u001b[0;34m,\u001b[0m \u001b[0minten_ij\u001b[0m\u001b[0;34m,\u001b[0m \u001b[0moldguess\u001b[0m\u001b[0;34m,\u001b[0m \u001b[0mn_gauss\u001b[0m\u001b[0;34m,\u001b[0m \u001b[0mn_poly\u001b[0m\u001b[0;34m)\u001b[0m\u001b[0;34m\u001b[0m\u001b[0;34m\u001b[0m\u001b[0m\n\u001b[0m\u001b[1;32m    132\u001b[0m \u001b[0;34m\u001b[0m\u001b[0m\n\u001b[1;32m    133\u001b[0m             \u001b[0;31m# Plug in new guess values to parinfo\u001b[0m\u001b[0;34m\u001b[0m\u001b[0;34m\u001b[0m\u001b[0m\n",
            "\u001b[0;32m/usr/local/lib/python3.11/dist-packages/eispac/core/scale_guess.py\u001b[0m in \u001b[0;36mscale_guess\u001b[0;34m(x, y, param, n_gauss, n_poly)\u001b[0m\n\u001b[1;32m     42\u001b[0m \u001b[0;34m\u001b[0m\u001b[0m\n\u001b[1;32m     43\u001b[0m     \u001b[0;31m# get background from data\u001b[0m\u001b[0;34m\u001b[0m\u001b[0;34m\u001b[0m\u001b[0m\n\u001b[0;32m---> 44\u001b[0;31m     \u001b[0mbkg_data\u001b[0m \u001b[0;34m=\u001b[0m \u001b[0mnp\u001b[0m\u001b[0;34m.\u001b[0m\u001b[0mmean\u001b[0m\u001b[0;34m(\u001b[0m\u001b[0mnp\u001b[0m\u001b[0;34m.\u001b[0m\u001b[0msort\u001b[0m\u001b[0;34m(\u001b[0m\u001b[0my\u001b[0m\u001b[0;34m)\u001b[0m\u001b[0;34m[\u001b[0m\u001b[0;36m0\u001b[0m\u001b[0;34m:\u001b[0m\u001b[0;36m3\u001b[0m\u001b[0;34m]\u001b[0m\u001b[0;34m)\u001b[0m\u001b[0;34m\u001b[0m\u001b[0;34m\u001b[0m\u001b[0m\n\u001b[0m\u001b[1;32m     45\u001b[0m \u001b[0;34m\u001b[0m\u001b[0m\n\u001b[1;32m     46\u001b[0m     \u001b[0;31m# get background from guess\u001b[0m\u001b[0;34m\u001b[0m\u001b[0;34m\u001b[0m\u001b[0m\n",
            "\u001b[0;32m/usr/local/lib/python3.11/dist-packages/numpy/core/fromnumeric.py\u001b[0m in \u001b[0;36mmean\u001b[0;34m(a, axis, dtype, out, keepdims, where)\u001b[0m\n\u001b[1;32m   3502\u001b[0m             \u001b[0;32mreturn\u001b[0m \u001b[0mmean\u001b[0m\u001b[0;34m(\u001b[0m\u001b[0maxis\u001b[0m\u001b[0;34m=\u001b[0m\u001b[0maxis\u001b[0m\u001b[0;34m,\u001b[0m \u001b[0mdtype\u001b[0m\u001b[0;34m=\u001b[0m\u001b[0mdtype\u001b[0m\u001b[0;34m,\u001b[0m \u001b[0mout\u001b[0m\u001b[0;34m=\u001b[0m\u001b[0mout\u001b[0m\u001b[0;34m,\u001b[0m \u001b[0;34m**\u001b[0m\u001b[0mkwargs\u001b[0m\u001b[0;34m)\u001b[0m\u001b[0;34m\u001b[0m\u001b[0;34m\u001b[0m\u001b[0m\n\u001b[1;32m   3503\u001b[0m \u001b[0;34m\u001b[0m\u001b[0m\n\u001b[0;32m-> 3504\u001b[0;31m     return _methods._mean(a, axis=axis, dtype=dtype,\n\u001b[0m\u001b[1;32m   3505\u001b[0m                           out=out, **kwargs)\n\u001b[1;32m   3506\u001b[0m \u001b[0;34m\u001b[0m\u001b[0m\n",
            "\u001b[0;32m/usr/local/lib/python3.11/dist-packages/numpy/core/_methods.py\u001b[0m in \u001b[0;36m_mean\u001b[0;34m(a, axis, dtype, out, keepdims, where)\u001b[0m\n\u001b[1;32m    110\u001b[0m     \u001b[0;31m# Cast bool, unsigned int, and int to float64 by default\u001b[0m\u001b[0;34m\u001b[0m\u001b[0;34m\u001b[0m\u001b[0m\n\u001b[1;32m    111\u001b[0m     \u001b[0;32mif\u001b[0m \u001b[0mdtype\u001b[0m \u001b[0;32mis\u001b[0m \u001b[0;32mNone\u001b[0m\u001b[0;34m:\u001b[0m\u001b[0;34m\u001b[0m\u001b[0;34m\u001b[0m\u001b[0m\n\u001b[0;32m--> 112\u001b[0;31m         \u001b[0;32mif\u001b[0m \u001b[0missubclass\u001b[0m\u001b[0;34m(\u001b[0m\u001b[0marr\u001b[0m\u001b[0;34m.\u001b[0m\u001b[0mdtype\u001b[0m\u001b[0;34m.\u001b[0m\u001b[0mtype\u001b[0m\u001b[0;34m,\u001b[0m \u001b[0;34m(\u001b[0m\u001b[0mnt\u001b[0m\u001b[0;34m.\u001b[0m\u001b[0minteger\u001b[0m\u001b[0;34m,\u001b[0m \u001b[0mnt\u001b[0m\u001b[0;34m.\u001b[0m\u001b[0mbool_\u001b[0m\u001b[0;34m)\u001b[0m\u001b[0;34m)\u001b[0m\u001b[0;34m:\u001b[0m\u001b[0;34m\u001b[0m\u001b[0;34m\u001b[0m\u001b[0m\n\u001b[0m\u001b[1;32m    113\u001b[0m             \u001b[0mdtype\u001b[0m \u001b[0;34m=\u001b[0m \u001b[0mmu\u001b[0m\u001b[0;34m.\u001b[0m\u001b[0mdtype\u001b[0m\u001b[0;34m(\u001b[0m\u001b[0;34m'f8'\u001b[0m\u001b[0;34m)\u001b[0m\u001b[0;34m\u001b[0m\u001b[0;34m\u001b[0m\u001b[0m\n\u001b[1;32m    114\u001b[0m         \u001b[0;32melif\u001b[0m \u001b[0missubclass\u001b[0m\u001b[0;34m(\u001b[0m\u001b[0marr\u001b[0m\u001b[0;34m.\u001b[0m\u001b[0mdtype\u001b[0m\u001b[0;34m.\u001b[0m\u001b[0mtype\u001b[0m\u001b[0;34m,\u001b[0m \u001b[0mnt\u001b[0m\u001b[0;34m.\u001b[0m\u001b[0mfloat16\u001b[0m\u001b[0;34m)\u001b[0m\u001b[0;34m:\u001b[0m\u001b[0;34m\u001b[0m\u001b[0;34m\u001b[0m\u001b[0m\n",
            "\u001b[0;31mKeyboardInterrupt\u001b[0m: "
          ]
        }
      ],
      "source": [
        "#check if the fit we want already exists\n",
        "path = Path(data_filename.replace(\"data.h5\",templates_list[line][0]).replace(\".template\",f\"-{templates_list[line][1]}.fit\"))\n",
        "if path.is_file() == False:\n",
        "    print('let\\'s fit')\n",
        "    #if the file is not there, fit the line\n",
        "    cube = eispac.read_cube(data_filename, window=template.central_wave)\n",
        "    fit_res = eispac.fit_spectra(cube, template, ncpu='max')\n",
        "    eispac.save_fit(fit_res)\n",
        "else:\n",
        "    print('no need to fit')\n",
        "    #if the file is there already, load it\n",
        "    cube = eispac.read_cube(data_filename, window=template.central_wave)\n",
        "    fit_res=eispac.read_fit(path)"
      ]
    },
    {
      "cell_type": "markdown",
      "id": "a07771f0",
      "metadata": {
        "id": "a07771f0"
      },
      "source": [
        "## Some recap while we are waiting for the fitting process.....\n",
        "\n",
        "We fit spectral lines using a Gaussian function:\n",
        "\n",
        "$ f(x) = A e^{-\\frac{(x-m)^2}{2\\sigma^2}}$,\n",
        "\n",
        "The fitted Gaussian function looks like this:\n",
        "\n",
        "![Gaussian.png](https://www.mssl.ucl.ac.uk/~nn2/EIS_Tutorial_data/Gaussian.png)"
      ]
    },
    {
      "cell_type": "markdown",
      "id": "0d706bcc",
      "metadata": {
        "id": "0d706bcc"
      },
      "source": [
        "### Pop Quiz: How can we use the fitted Gaussian to calculate the emission intensity and the doppler velocity of the plasma?"
      ]
    },
    {
      "cell_type": "code",
      "execution_count": null,
      "id": "fe2c4a7c",
      "metadata": {
        "id": "fe2c4a7c"
      },
      "outputs": [],
      "source": [
        "# write the formula to calculate these values here....... (after the # sign)\n",
        "#\n",
        "#"
      ]
    },
    {
      "cell_type": "markdown",
      "id": "15a52d0f",
      "metadata": {
        "id": "15a52d0f"
      },
      "source": [
        "## Plot the intensity map\n",
        "During the fitting process, we calculated the spectral line intensity for each pixel. Remember that the spectral line intensity is the area under the Gaussian curve."
      ]
    },
    {
      "cell_type": "code",
      "execution_count": null,
      "id": "075f74c3",
      "metadata": {
        "id": "075f74c3"
      },
      "outputs": [],
      "source": [
        "eismap_intensity = fit_res.get_map(component=templates_list[line][1],measurement='intensity')\n",
        "\n",
        "plt.figure(figsize=(10, 10))\n",
        "eismap_intensity.plot()\n",
        "plt.colorbar()"
      ]
    },
    {
      "cell_type": "markdown",
      "id": "a952e455",
      "metadata": {
        "id": "a952e455"
      },
      "source": [
        "## Plot the velocity map\n",
        "\n",
        "During the fitting process, we calculated the spectral line shift for each pixel. Remember that the spectral line shift is the difference between the center of the measured spectral line and the rest wavelength. This gives us information about the plasma velocity."
      ]
    },
    {
      "cell_type": "code",
      "execution_count": null,
      "id": "893415af",
      "metadata": {
        "id": "893415af"
      },
      "outputs": [],
      "source": [
        "eismap_velocity = fit_res.get_map(component=templates_list[line][1],measurement='velocity')\n",
        "\n",
        "plt.figure(figsize=(10, 10))\n",
        "eismap_velocity.plot()\n",
        "plt.colorbar()"
      ]
    },
    {
      "cell_type": "markdown",
      "id": "17e28090",
      "metadata": {
        "id": "17e28090"
      },
      "source": [
        "## Check the line profile from a chosen pixel\n",
        "\n",
        "You can change the x and y values below to look at the profile of another pixel. Try couple of pixels to see if there are any differences based on the location"
      ]
    },
    {
      "cell_type": "code",
      "execution_count": null,
      "id": "9e244d10",
      "metadata": {
        "id": "9e244d10"
      },
      "outputs": [],
      "source": [
        "y = -520 # solar-y coordinate in arcsec\n",
        "x = -465 # solar-x coordinate in arcsec"
      ]
    },
    {
      "cell_type": "code",
      "execution_count": null,
      "id": "GyWa5iokRknn",
      "metadata": {
        "id": "GyWa5iokRknn"
      },
      "outputs": [],
      "source": [
        "# Convert the arcsec coordinates to pixel coordinates\n",
        "arcsec_coordinate = SkyCoord(x*u.arcsec, y*u.arcsec, frame=eismap_intensity.coordinate_frame)\n",
        "point_coordinates = eismap_intensity.world_to_pixel(arcsec_coordinate)\n",
        "\n",
        "# Extract raw data (cube)\n",
        "data_x = cube.wavelength[int(point_coordinates.y.value), int(point_coordinates.x.value), :]\n",
        "data_y = cube.data[int(point_coordinates.y.value), int(point_coordinates.x.value), :]\n",
        "data_err = cube.uncertainty.array[int(point_coordinates.y.value), int(point_coordinates.x.value), :]\n",
        "\n",
        "# Extract fit profile (fit_res) and interpolate fit at higher spectral resolution\n",
        "fit_x, fit_y = fit_res.get_fit_profile(coords=[int(point_coordinates.y.value),int(point_coordinates.x.value)], num_wavelengths=100)\n",
        "c0_x, c0_y = fit_res.get_fit_profile(0, coords=[int(point_coordinates.y.value),int(point_coordinates.x.value)], num_wavelengths=100)\n",
        "c1_x, c1_y = fit_res.get_fit_profile(1, coords=[int(point_coordinates.y.value),int(point_coordinates.x.value)], num_wavelengths=100)\n",
        "c2_x, c2_y = fit_res.get_fit_profile(2, coords=[int(point_coordinates.y.value),int(point_coordinates.x.value)], num_wavelengths=100)\n",
        "\n",
        "\n",
        "# Make a multi-panel figure with the cutout and example profile\n",
        "fig = plt.figure(figsize=[23,8])\n",
        "plot_grid = fig.add_gridspec(nrows=1, ncols=3, wspace=0.3)\n",
        "\n",
        "data_subplt1 = fig.add_subplot(plot_grid[0,0], projection=eismap_intensity)\n",
        "eismap_intensity.plot(axes = data_subplt1)\n",
        "data_subplt1.scatter(int(point_coordinates.x.value), int(point_coordinates.y.value), color='r', marker='x')\n",
        "\n",
        "data_subplt2 = fig.add_subplot(plot_grid[0,1], projection=eismap_velocity)\n",
        "eismap_velocity.plot(axes = data_subplt2)\n",
        "data_subplt2.scatter(int(point_coordinates.x.value), int(point_coordinates.y.value), color='r', marker='x')\n",
        "\n",
        "\n",
        "profile_subplt = fig.add_subplot(plot_grid[0,2])\n",
        "profile_subplt.errorbar(data_x, data_y, yerr=data_err, ls='', marker='o', color='k')\n",
        "profile_subplt.plot(fit_x, fit_y, color='b', label='Combined profile')\n",
        "profile_subplt.plot(c0_x, c0_y, color='r', label=fit_res.fit['line_ids'][0])\n",
        "profile_subplt.plot(c1_x, c1_y, color='r', ls='--', label=fit_res.fit['line_ids'][1])\n",
        "profile_subplt.plot(c2_x, c2_y, color='g', label='Background')\n",
        "profile_subplt.set_title(f'Cutout at: x = {x} \\'\\', y = {y}\\'\\'')\n",
        "profile_subplt.set_xlabel('Wavelength [$\\AA$]')\n",
        "profile_subplt.set_ylabel('Intensity ['+cube.unit.to_string()+']')\n",
        "profile_subplt.legend(loc='upper left', frameon=False)\n",
        "profile_subplt.set_xlim(template.central_wave - 0.5, template.central_wave + 0.5)\n",
        "profile_subplt.axvline(template.central_wave, color='r', linestyle='--', label=f'{template.central_wave:.2f} [$\\AA$]')\n",
        "\n",
        "plt.show()"
      ]
    },
    {
      "cell_type": "markdown",
      "id": "641c26dc",
      "metadata": {
        "id": "641c26dc"
      },
      "source": [
        "## Draw contours on EIS map\n",
        "First, define the contour thresholds by intensity."
      ]
    },
    {
      "cell_type": "code",
      "execution_count": null,
      "id": "psu86MPIX7HX",
      "metadata": {
        "id": "psu86MPIX7HX"
      },
      "outputs": [],
      "source": [
        "intensity_level = [200]"
      ]
    },
    {
      "cell_type": "code",
      "execution_count": null,
      "id": "45ab04ca",
      "metadata": {
        "id": "45ab04ca"
      },
      "outputs": [],
      "source": [
        "# Make a multi-panel figure with the cutout and example profile\n",
        "fig = plt.figure(figsize=[15,8])\n",
        "plot_grid = fig.add_gridspec(nrows=1, ncols=3, wspace=0.3)\n",
        "\n",
        "data_subplt1 = fig.add_subplot(plot_grid[0,0], projection=eismap_intensity)\n",
        "eismap_intensity.plot(axes = data_subplt1)\n",
        "eismap_intensity.draw_contours(intensity_level*eismap_intensity.unit, axes=data_subplt1, cmap='hot', alpha=1.0)\n",
        "\n",
        "data_subplt2 = fig.add_subplot(plot_grid[0,1], projection=eismap_velocity)\n",
        "eismap_velocity.plot(axes = data_subplt2)\n",
        "eismap_intensity.draw_contours(intensity_level*eismap_intensity.unit, axes=data_subplt2, cmap='hot', alpha=1.0)"
      ]
    },
    {
      "cell_type": "markdown",
      "id": "bb64aea4",
      "metadata": {
        "id": "bb64aea4"
      },
      "source": [
        "### Exercise: find the region with the highest intensity."
      ]
    },
    {
      "cell_type": "code",
      "execution_count": null,
      "id": "1910a6a6",
      "metadata": {
        "id": "1910a6a6"
      },
      "outputs": [],
      "source": [
        "# hint: use your observations and try to varies the intensity_level to see the changes in the plot"
      ]
    },
    {
      "cell_type": "markdown",
      "id": "mdM2wXo8ZKVt",
      "metadata": {
        "id": "mdM2wXo8ZKVt"
      },
      "source": [
        "Now, define the contour threshold by velocity."
      ]
    },
    {
      "cell_type": "code",
      "execution_count": null,
      "id": "GI3YJmNoY7PP",
      "metadata": {
        "id": "GI3YJmNoY7PP"
      },
      "outputs": [],
      "source": [
        "velocity_level = [-14]"
      ]
    },
    {
      "cell_type": "code",
      "execution_count": null,
      "id": "G5zRvwqHY7Xo",
      "metadata": {
        "id": "G5zRvwqHY7Xo"
      },
      "outputs": [],
      "source": [
        "# Make a multi-panel figure with the cutout and example profile\n",
        "fig = plt.figure(figsize=[15,8])\n",
        "plot_grid = fig.add_gridspec(nrows=1, ncols=3, wspace=0.3)\n",
        "\n",
        "data_subplt1 = fig.add_subplot(plot_grid[0,0], projection=eismap_intensity)\n",
        "eismap_intensity.plot(axes = data_subplt1)\n",
        "eismap_velocity.draw_contours(velocity_level*eismap_velocity.unit, axes=data_subplt1, cmap='hot', alpha=1.0)\n",
        "\n",
        "data_subplt2 = fig.add_subplot(plot_grid[0,1], projection=eismap_velocity)\n",
        "eismap_velocity.plot(axes = data_subplt2)\n",
        "eismap_velocity.draw_contours(velocity_level*eismap_velocity.unit, axes=data_subplt2, cmap='hot', alpha=1.0)"
      ]
    },
    {
      "cell_type": "markdown",
      "id": "F4k7QUMebEnd",
      "metadata": {
        "id": "F4k7QUMebEnd"
      },
      "source": [
        "### Exercise: find the area with the highest plasma velocity."
      ]
    },
    {
      "cell_type": "code",
      "execution_count": null,
      "id": "3e0c2345",
      "metadata": {
        "id": "3e0c2345"
      },
      "outputs": [],
      "source": [
        "# hint: use your observations and try to varies the velocity_level to see the changes in the plot"
      ]
    },
    {
      "cell_type": "markdown",
      "id": "htqR8o3pbU5j",
      "metadata": {
        "id": "htqR8o3pbU5j"
      },
      "source": [
        "### Additional Exercise: if you found this easy, then let's try to use the code blocks in previous section and plot the profiles in the regions with high intensity or high velocity."
      ]
    },
    {
      "cell_type": "code",
      "execution_count": null,
      "id": "b69e37f4",
      "metadata": {
        "id": "b69e37f4"
      },
      "outputs": [],
      "source": [
        "# write your code here"
      ]
    },
    {
      "cell_type": "markdown",
      "id": "5ba99c54",
      "metadata": {
        "id": "5ba99c54"
      },
      "source": [
        "## Bonus: Make a cotemporal AIA map and overplot the field of view of EIS\n",
        "\n",
        "\n",
        "We first download the AIA data from the Virtual Solar Observatory (VSO).\n",
        "\n",
        "==**This may not work, depending on how the servers are doing on the day!**=="
      ]
    },
    {
      "cell_type": "code",
      "execution_count": null,
      "id": "a21bf418",
      "metadata": {
        "id": "a21bf418"
      },
      "outputs": [],
      "source": [
        "time_range = a.Time(parse_time(eismap_intensity.meta['date_beg']),parse_time(eismap_intensity.meta['date_beg'])+30*u.minute) # time range for the AIA data, cooresponding to the EIS data\n",
        "\n",
        "#Download an AIA 193 map\n",
        "aia_193 = time_range & a.Instrument.aia & a.Wavelength(193*u.angstrom)\n",
        "aia_193_search = Fido.search(aia_193)\n",
        "aia_193_result = Fido.fetch(aia_193_search[0][0])\n",
        "aia_193_map = sunpy.map.Map(aia_193_result[0])\n"
      ]
    },
    {
      "cell_type": "markdown",
      "id": "85195600",
      "metadata": {
        "id": "85195600"
      },
      "source": [
        "Then we can plot the image of the Sun, with the field-of-view of EIS overplotted on top in red"
      ]
    },
    {
      "cell_type": "code",
      "execution_count": null,
      "id": "42f236b1",
      "metadata": {
        "id": "42f236b1"
      },
      "outputs": [],
      "source": [
        "fig = plt.figure(figsize=[10,10])\n",
        "ax = fig.add_subplot(111, projection=aia_193_map)\n",
        "aia_193_map.plot(axes=ax)\n",
        "eismap_intensity.draw_quadrangle(eismap_intensity.bottom_left_coord, top_right = eismap_intensity.top_right_coord, axes=ax, color='r')"
      ]
    },
    {
      "cell_type": "markdown",
      "id": "3cefe507",
      "metadata": {
        "id": "3cefe507"
      },
      "source": [
        "That's done for today! Hope this module is helpful to you in learning Solar Physics!"
      ]
    },
    {
      "cell_type": "markdown",
      "id": "6a482e99",
      "metadata": {
        "id": "6a482e99"
      },
      "source": []
    }
  ],
  "metadata": {
    "colab": {
      "provenance": []
    },
    "kernelspec": {
      "display_name": "sunpy",
      "language": "python",
      "name": "python3"
    },
    "language_info": {
      "codemirror_mode": {
        "name": "ipython",
        "version": 3
      },
      "file_extension": ".py",
      "mimetype": "text/x-python",
      "name": "python",
      "nbconvert_exporter": "python",
      "pygments_lexer": "ipython3",
      "version": "3.12.3"
    },
    "widgets": {
      "application/vnd.jupyter.widget-state+json": {
        "335f0903e95f42a9b1edf62ff4dc2015": {
          "model_module": "@jupyter-widgets/controls",
          "model_name": "HBoxModel",
          "model_module_version": "1.5.0",
          "state": {
            "_dom_classes": [],
            "_model_module": "@jupyter-widgets/controls",
            "_model_module_version": "1.5.0",
            "_model_name": "HBoxModel",
            "_view_count": null,
            "_view_module": "@jupyter-widgets/controls",
            "_view_module_version": "1.5.0",
            "_view_name": "HBoxView",
            "box_style": "",
            "children": [
              "IPY_MODEL_2b9b278f505c4b2e8c26c08a6749ff95",
              "IPY_MODEL_03eb5cddb8654a46b34a2c31f8d5199b",
              "IPY_MODEL_23e23f8f69ae46f59b576b950a180168"
            ],
            "layout": "IPY_MODEL_d47b6f04f29749e4949d3641e43fb4f7"
          }
        },
        "2b9b278f505c4b2e8c26c08a6749ff95": {
          "model_module": "@jupyter-widgets/controls",
          "model_name": "HTMLModel",
          "model_module_version": "1.5.0",
          "state": {
            "_dom_classes": [],
            "_model_module": "@jupyter-widgets/controls",
            "_model_module_version": "1.5.0",
            "_model_name": "HTMLModel",
            "_view_count": null,
            "_view_module": "@jupyter-widgets/controls",
            "_view_module_version": "1.5.0",
            "_view_name": "HTMLView",
            "description": "",
            "description_tooltip": null,
            "layout": "IPY_MODEL_07de8c40881940f78a4c505dc49e6884",
            "placeholder": "​",
            "style": "IPY_MODEL_00d8f08744a64a35a7aafa6e7a64cf4e",
            "value": "Files Downloaded: 100%"
          }
        },
        "03eb5cddb8654a46b34a2c31f8d5199b": {
          "model_module": "@jupyter-widgets/controls",
          "model_name": "FloatProgressModel",
          "model_module_version": "1.5.0",
          "state": {
            "_dom_classes": [],
            "_model_module": "@jupyter-widgets/controls",
            "_model_module_version": "1.5.0",
            "_model_name": "FloatProgressModel",
            "_view_count": null,
            "_view_module": "@jupyter-widgets/controls",
            "_view_module_version": "1.5.0",
            "_view_name": "ProgressView",
            "bar_style": "success",
            "description": "",
            "description_tooltip": null,
            "layout": "IPY_MODEL_ecf6620d801c49ee8cae9eae9a3c6cd4",
            "max": 1,
            "min": 0,
            "orientation": "horizontal",
            "style": "IPY_MODEL_7ef225136c0c44818d12c454990d13ba",
            "value": 1
          }
        },
        "23e23f8f69ae46f59b576b950a180168": {
          "model_module": "@jupyter-widgets/controls",
          "model_name": "HTMLModel",
          "model_module_version": "1.5.0",
          "state": {
            "_dom_classes": [],
            "_model_module": "@jupyter-widgets/controls",
            "_model_module_version": "1.5.0",
            "_model_name": "HTMLModel",
            "_view_count": null,
            "_view_module": "@jupyter-widgets/controls",
            "_view_module_version": "1.5.0",
            "_view_name": "HTMLView",
            "description": "",
            "description_tooltip": null,
            "layout": "IPY_MODEL_133dba3541d04562be32b3042b30cd6e",
            "placeholder": "​",
            "style": "IPY_MODEL_d521c5b711684441a314c470c74593c5",
            "value": " 1/1 [00:01&lt;00:00,  1.70s/file]"
          }
        },
        "d47b6f04f29749e4949d3641e43fb4f7": {
          "model_module": "@jupyter-widgets/base",
          "model_name": "LayoutModel",
          "model_module_version": "1.2.0",
          "state": {
            "_model_module": "@jupyter-widgets/base",
            "_model_module_version": "1.2.0",
            "_model_name": "LayoutModel",
            "_view_count": null,
            "_view_module": "@jupyter-widgets/base",
            "_view_module_version": "1.2.0",
            "_view_name": "LayoutView",
            "align_content": null,
            "align_items": null,
            "align_self": null,
            "border": null,
            "bottom": null,
            "display": null,
            "flex": null,
            "flex_flow": null,
            "grid_area": null,
            "grid_auto_columns": null,
            "grid_auto_flow": null,
            "grid_auto_rows": null,
            "grid_column": null,
            "grid_gap": null,
            "grid_row": null,
            "grid_template_areas": null,
            "grid_template_columns": null,
            "grid_template_rows": null,
            "height": null,
            "justify_content": null,
            "justify_items": null,
            "left": null,
            "margin": null,
            "max_height": null,
            "max_width": null,
            "min_height": null,
            "min_width": null,
            "object_fit": null,
            "object_position": null,
            "order": null,
            "overflow": null,
            "overflow_x": null,
            "overflow_y": null,
            "padding": null,
            "right": null,
            "top": null,
            "visibility": null,
            "width": null
          }
        },
        "07de8c40881940f78a4c505dc49e6884": {
          "model_module": "@jupyter-widgets/base",
          "model_name": "LayoutModel",
          "model_module_version": "1.2.0",
          "state": {
            "_model_module": "@jupyter-widgets/base",
            "_model_module_version": "1.2.0",
            "_model_name": "LayoutModel",
            "_view_count": null,
            "_view_module": "@jupyter-widgets/base",
            "_view_module_version": "1.2.0",
            "_view_name": "LayoutView",
            "align_content": null,
            "align_items": null,
            "align_self": null,
            "border": null,
            "bottom": null,
            "display": null,
            "flex": null,
            "flex_flow": null,
            "grid_area": null,
            "grid_auto_columns": null,
            "grid_auto_flow": null,
            "grid_auto_rows": null,
            "grid_column": null,
            "grid_gap": null,
            "grid_row": null,
            "grid_template_areas": null,
            "grid_template_columns": null,
            "grid_template_rows": null,
            "height": null,
            "justify_content": null,
            "justify_items": null,
            "left": null,
            "margin": null,
            "max_height": null,
            "max_width": null,
            "min_height": null,
            "min_width": null,
            "object_fit": null,
            "object_position": null,
            "order": null,
            "overflow": null,
            "overflow_x": null,
            "overflow_y": null,
            "padding": null,
            "right": null,
            "top": null,
            "visibility": null,
            "width": null
          }
        },
        "00d8f08744a64a35a7aafa6e7a64cf4e": {
          "model_module": "@jupyter-widgets/controls",
          "model_name": "DescriptionStyleModel",
          "model_module_version": "1.5.0",
          "state": {
            "_model_module": "@jupyter-widgets/controls",
            "_model_module_version": "1.5.0",
            "_model_name": "DescriptionStyleModel",
            "_view_count": null,
            "_view_module": "@jupyter-widgets/base",
            "_view_module_version": "1.2.0",
            "_view_name": "StyleView",
            "description_width": ""
          }
        },
        "ecf6620d801c49ee8cae9eae9a3c6cd4": {
          "model_module": "@jupyter-widgets/base",
          "model_name": "LayoutModel",
          "model_module_version": "1.2.0",
          "state": {
            "_model_module": "@jupyter-widgets/base",
            "_model_module_version": "1.2.0",
            "_model_name": "LayoutModel",
            "_view_count": null,
            "_view_module": "@jupyter-widgets/base",
            "_view_module_version": "1.2.0",
            "_view_name": "LayoutView",
            "align_content": null,
            "align_items": null,
            "align_self": null,
            "border": null,
            "bottom": null,
            "display": null,
            "flex": null,
            "flex_flow": null,
            "grid_area": null,
            "grid_auto_columns": null,
            "grid_auto_flow": null,
            "grid_auto_rows": null,
            "grid_column": null,
            "grid_gap": null,
            "grid_row": null,
            "grid_template_areas": null,
            "grid_template_columns": null,
            "grid_template_rows": null,
            "height": null,
            "justify_content": null,
            "justify_items": null,
            "left": null,
            "margin": null,
            "max_height": null,
            "max_width": null,
            "min_height": null,
            "min_width": null,
            "object_fit": null,
            "object_position": null,
            "order": null,
            "overflow": null,
            "overflow_x": null,
            "overflow_y": null,
            "padding": null,
            "right": null,
            "top": null,
            "visibility": null,
            "width": null
          }
        },
        "7ef225136c0c44818d12c454990d13ba": {
          "model_module": "@jupyter-widgets/controls",
          "model_name": "ProgressStyleModel",
          "model_module_version": "1.5.0",
          "state": {
            "_model_module": "@jupyter-widgets/controls",
            "_model_module_version": "1.5.0",
            "_model_name": "ProgressStyleModel",
            "_view_count": null,
            "_view_module": "@jupyter-widgets/base",
            "_view_module_version": "1.2.0",
            "_view_name": "StyleView",
            "bar_color": null,
            "description_width": ""
          }
        },
        "133dba3541d04562be32b3042b30cd6e": {
          "model_module": "@jupyter-widgets/base",
          "model_name": "LayoutModel",
          "model_module_version": "1.2.0",
          "state": {
            "_model_module": "@jupyter-widgets/base",
            "_model_module_version": "1.2.0",
            "_model_name": "LayoutModel",
            "_view_count": null,
            "_view_module": "@jupyter-widgets/base",
            "_view_module_version": "1.2.0",
            "_view_name": "LayoutView",
            "align_content": null,
            "align_items": null,
            "align_self": null,
            "border": null,
            "bottom": null,
            "display": null,
            "flex": null,
            "flex_flow": null,
            "grid_area": null,
            "grid_auto_columns": null,
            "grid_auto_flow": null,
            "grid_auto_rows": null,
            "grid_column": null,
            "grid_gap": null,
            "grid_row": null,
            "grid_template_areas": null,
            "grid_template_columns": null,
            "grid_template_rows": null,
            "height": null,
            "justify_content": null,
            "justify_items": null,
            "left": null,
            "margin": null,
            "max_height": null,
            "max_width": null,
            "min_height": null,
            "min_width": null,
            "object_fit": null,
            "object_position": null,
            "order": null,
            "overflow": null,
            "overflow_x": null,
            "overflow_y": null,
            "padding": null,
            "right": null,
            "top": null,
            "visibility": null,
            "width": null
          }
        },
        "d521c5b711684441a314c470c74593c5": {
          "model_module": "@jupyter-widgets/controls",
          "model_name": "DescriptionStyleModel",
          "model_module_version": "1.5.0",
          "state": {
            "_model_module": "@jupyter-widgets/controls",
            "_model_module_version": "1.5.0",
            "_model_name": "DescriptionStyleModel",
            "_view_count": null,
            "_view_module": "@jupyter-widgets/base",
            "_view_module_version": "1.2.0",
            "_view_name": "StyleView",
            "description_width": ""
          }
        },
        "c6e815fc474b401799f4bdb19d4e1ca1": {
          "model_module": "@jupyter-widgets/controls",
          "model_name": "HBoxModel",
          "model_module_version": "1.5.0",
          "state": {
            "_dom_classes": [],
            "_model_module": "@jupyter-widgets/controls",
            "_model_module_version": "1.5.0",
            "_model_name": "HBoxModel",
            "_view_count": null,
            "_view_module": "@jupyter-widgets/controls",
            "_view_module_version": "1.5.0",
            "_view_name": "HBoxView",
            "box_style": "",
            "children": [
              "IPY_MODEL_23048ba323a6439abcf0ba226ba89a99",
              "IPY_MODEL_40e04638c6db48ada993a5c7fc179176",
              "IPY_MODEL_a02ceb1e603d434d884a4e2a1981a201"
            ],
            "layout": "IPY_MODEL_671b2afac5da48e6b2ca8f1f91d163e2"
          }
        },
        "23048ba323a6439abcf0ba226ba89a99": {
          "model_module": "@jupyter-widgets/controls",
          "model_name": "HTMLModel",
          "model_module_version": "1.5.0",
          "state": {
            "_dom_classes": [],
            "_model_module": "@jupyter-widgets/controls",
            "_model_module_version": "1.5.0",
            "_model_name": "HTMLModel",
            "_view_count": null,
            "_view_module": "@jupyter-widgets/controls",
            "_view_module_version": "1.5.0",
            "_view_name": "HTMLView",
            "description": "",
            "description_tooltip": null,
            "layout": "IPY_MODEL_c8f5c67131bf47209e5afdd27725e45c",
            "placeholder": "​",
            "style": "IPY_MODEL_7dcbf8425a5c4a7b9906ac59607d57d9",
            "value": "eis_20110208_153218.data.h5.part:  97%"
          }
        },
        "40e04638c6db48ada993a5c7fc179176": {
          "model_module": "@jupyter-widgets/controls",
          "model_name": "FloatProgressModel",
          "model_module_version": "1.5.0",
          "state": {
            "_dom_classes": [],
            "_model_module": "@jupyter-widgets/controls",
            "_model_module_version": "1.5.0",
            "_model_name": "FloatProgressModel",
            "_view_count": null,
            "_view_module": "@jupyter-widgets/controls",
            "_view_module_version": "1.5.0",
            "_view_name": "ProgressView",
            "bar_style": "",
            "description": "",
            "description_tooltip": null,
            "layout": "IPY_MODEL_01b606d1b1764535bc37d6a4ddf5b8a3",
            "max": 64893312,
            "min": 0,
            "orientation": "horizontal",
            "style": "IPY_MODEL_dd3066bbc93048f18a53c66f4543062f",
            "value": 64893312
          }
        },
        "a02ceb1e603d434d884a4e2a1981a201": {
          "model_module": "@jupyter-widgets/controls",
          "model_name": "HTMLModel",
          "model_module_version": "1.5.0",
          "state": {
            "_dom_classes": [],
            "_model_module": "@jupyter-widgets/controls",
            "_model_module_version": "1.5.0",
            "_model_name": "HTMLModel",
            "_view_count": null,
            "_view_module": "@jupyter-widgets/controls",
            "_view_module_version": "1.5.0",
            "_view_name": "HTMLView",
            "description": "",
            "description_tooltip": null,
            "layout": "IPY_MODEL_dc511a7777b34d97a3463f8513b2cd51",
            "placeholder": "​",
            "style": "IPY_MODEL_359cce43716c402eb08952ddd3d64169",
            "value": " 62.8M/64.9M [00:01&lt;00:00, 38.2MB/s]"
          }
        },
        "671b2afac5da48e6b2ca8f1f91d163e2": {
          "model_module": "@jupyter-widgets/base",
          "model_name": "LayoutModel",
          "model_module_version": "1.2.0",
          "state": {
            "_model_module": "@jupyter-widgets/base",
            "_model_module_version": "1.2.0",
            "_model_name": "LayoutModel",
            "_view_count": null,
            "_view_module": "@jupyter-widgets/base",
            "_view_module_version": "1.2.0",
            "_view_name": "LayoutView",
            "align_content": null,
            "align_items": null,
            "align_self": null,
            "border": null,
            "bottom": null,
            "display": null,
            "flex": null,
            "flex_flow": null,
            "grid_area": null,
            "grid_auto_columns": null,
            "grid_auto_flow": null,
            "grid_auto_rows": null,
            "grid_column": null,
            "grid_gap": null,
            "grid_row": null,
            "grid_template_areas": null,
            "grid_template_columns": null,
            "grid_template_rows": null,
            "height": null,
            "justify_content": null,
            "justify_items": null,
            "left": null,
            "margin": null,
            "max_height": null,
            "max_width": null,
            "min_height": null,
            "min_width": null,
            "object_fit": null,
            "object_position": null,
            "order": null,
            "overflow": null,
            "overflow_x": null,
            "overflow_y": null,
            "padding": null,
            "right": null,
            "top": null,
            "visibility": "hidden",
            "width": null
          }
        },
        "c8f5c67131bf47209e5afdd27725e45c": {
          "model_module": "@jupyter-widgets/base",
          "model_name": "LayoutModel",
          "model_module_version": "1.2.0",
          "state": {
            "_model_module": "@jupyter-widgets/base",
            "_model_module_version": "1.2.0",
            "_model_name": "LayoutModel",
            "_view_count": null,
            "_view_module": "@jupyter-widgets/base",
            "_view_module_version": "1.2.0",
            "_view_name": "LayoutView",
            "align_content": null,
            "align_items": null,
            "align_self": null,
            "border": null,
            "bottom": null,
            "display": null,
            "flex": null,
            "flex_flow": null,
            "grid_area": null,
            "grid_auto_columns": null,
            "grid_auto_flow": null,
            "grid_auto_rows": null,
            "grid_column": null,
            "grid_gap": null,
            "grid_row": null,
            "grid_template_areas": null,
            "grid_template_columns": null,
            "grid_template_rows": null,
            "height": null,
            "justify_content": null,
            "justify_items": null,
            "left": null,
            "margin": null,
            "max_height": null,
            "max_width": null,
            "min_height": null,
            "min_width": null,
            "object_fit": null,
            "object_position": null,
            "order": null,
            "overflow": null,
            "overflow_x": null,
            "overflow_y": null,
            "padding": null,
            "right": null,
            "top": null,
            "visibility": null,
            "width": null
          }
        },
        "7dcbf8425a5c4a7b9906ac59607d57d9": {
          "model_module": "@jupyter-widgets/controls",
          "model_name": "DescriptionStyleModel",
          "model_module_version": "1.5.0",
          "state": {
            "_model_module": "@jupyter-widgets/controls",
            "_model_module_version": "1.5.0",
            "_model_name": "DescriptionStyleModel",
            "_view_count": null,
            "_view_module": "@jupyter-widgets/base",
            "_view_module_version": "1.2.0",
            "_view_name": "StyleView",
            "description_width": ""
          }
        },
        "01b606d1b1764535bc37d6a4ddf5b8a3": {
          "model_module": "@jupyter-widgets/base",
          "model_name": "LayoutModel",
          "model_module_version": "1.2.0",
          "state": {
            "_model_module": "@jupyter-widgets/base",
            "_model_module_version": "1.2.0",
            "_model_name": "LayoutModel",
            "_view_count": null,
            "_view_module": "@jupyter-widgets/base",
            "_view_module_version": "1.2.0",
            "_view_name": "LayoutView",
            "align_content": null,
            "align_items": null,
            "align_self": null,
            "border": null,
            "bottom": null,
            "display": null,
            "flex": null,
            "flex_flow": null,
            "grid_area": null,
            "grid_auto_columns": null,
            "grid_auto_flow": null,
            "grid_auto_rows": null,
            "grid_column": null,
            "grid_gap": null,
            "grid_row": null,
            "grid_template_areas": null,
            "grid_template_columns": null,
            "grid_template_rows": null,
            "height": null,
            "justify_content": null,
            "justify_items": null,
            "left": null,
            "margin": null,
            "max_height": null,
            "max_width": null,
            "min_height": null,
            "min_width": null,
            "object_fit": null,
            "object_position": null,
            "order": null,
            "overflow": null,
            "overflow_x": null,
            "overflow_y": null,
            "padding": null,
            "right": null,
            "top": null,
            "visibility": null,
            "width": null
          }
        },
        "dd3066bbc93048f18a53c66f4543062f": {
          "model_module": "@jupyter-widgets/controls",
          "model_name": "ProgressStyleModel",
          "model_module_version": "1.5.0",
          "state": {
            "_model_module": "@jupyter-widgets/controls",
            "_model_module_version": "1.5.0",
            "_model_name": "ProgressStyleModel",
            "_view_count": null,
            "_view_module": "@jupyter-widgets/base",
            "_view_module_version": "1.2.0",
            "_view_name": "StyleView",
            "bar_color": null,
            "description_width": ""
          }
        },
        "dc511a7777b34d97a3463f8513b2cd51": {
          "model_module": "@jupyter-widgets/base",
          "model_name": "LayoutModel",
          "model_module_version": "1.2.0",
          "state": {
            "_model_module": "@jupyter-widgets/base",
            "_model_module_version": "1.2.0",
            "_model_name": "LayoutModel",
            "_view_count": null,
            "_view_module": "@jupyter-widgets/base",
            "_view_module_version": "1.2.0",
            "_view_name": "LayoutView",
            "align_content": null,
            "align_items": null,
            "align_self": null,
            "border": null,
            "bottom": null,
            "display": null,
            "flex": null,
            "flex_flow": null,
            "grid_area": null,
            "grid_auto_columns": null,
            "grid_auto_flow": null,
            "grid_auto_rows": null,
            "grid_column": null,
            "grid_gap": null,
            "grid_row": null,
            "grid_template_areas": null,
            "grid_template_columns": null,
            "grid_template_rows": null,
            "height": null,
            "justify_content": null,
            "justify_items": null,
            "left": null,
            "margin": null,
            "max_height": null,
            "max_width": null,
            "min_height": null,
            "min_width": null,
            "object_fit": null,
            "object_position": null,
            "order": null,
            "overflow": null,
            "overflow_x": null,
            "overflow_y": null,
            "padding": null,
            "right": null,
            "top": null,
            "visibility": null,
            "width": null
          }
        },
        "359cce43716c402eb08952ddd3d64169": {
          "model_module": "@jupyter-widgets/controls",
          "model_name": "DescriptionStyleModel",
          "model_module_version": "1.5.0",
          "state": {
            "_model_module": "@jupyter-widgets/controls",
            "_model_module_version": "1.5.0",
            "_model_name": "DescriptionStyleModel",
            "_view_count": null,
            "_view_module": "@jupyter-widgets/base",
            "_view_module_version": "1.2.0",
            "_view_name": "StyleView",
            "description_width": ""
          }
        },
        "1058062a8c594b3793a96528f6c45d9d": {
          "model_module": "@jupyter-widgets/controls",
          "model_name": "HBoxModel",
          "model_module_version": "1.5.0",
          "state": {
            "_dom_classes": [],
            "_model_module": "@jupyter-widgets/controls",
            "_model_module_version": "1.5.0",
            "_model_name": "HBoxModel",
            "_view_count": null,
            "_view_module": "@jupyter-widgets/controls",
            "_view_module_version": "1.5.0",
            "_view_name": "HBoxView",
            "box_style": "",
            "children": [
              "IPY_MODEL_ea57ec2797c94675b19156351004737c",
              "IPY_MODEL_ea62f458279c4c11a27dc60d926b1e1c",
              "IPY_MODEL_2a295bc130a6479ebbb04791cd306b40"
            ],
            "layout": "IPY_MODEL_d5ae63fed83c4c0f82bb1347cfc9389e"
          }
        },
        "ea57ec2797c94675b19156351004737c": {
          "model_module": "@jupyter-widgets/controls",
          "model_name": "HTMLModel",
          "model_module_version": "1.5.0",
          "state": {
            "_dom_classes": [],
            "_model_module": "@jupyter-widgets/controls",
            "_model_module_version": "1.5.0",
            "_model_name": "HTMLModel",
            "_view_count": null,
            "_view_module": "@jupyter-widgets/controls",
            "_view_module_version": "1.5.0",
            "_view_name": "HTMLView",
            "description": "",
            "description_tooltip": null,
            "layout": "IPY_MODEL_5a6c551b1c5e449fa591b4eccdb5d7b8",
            "placeholder": "​",
            "style": "IPY_MODEL_534b41ec3dba4ce1aaeb68e5a0e112ec",
            "value": "Files Downloaded: 100%"
          }
        },
        "ea62f458279c4c11a27dc60d926b1e1c": {
          "model_module": "@jupyter-widgets/controls",
          "model_name": "FloatProgressModel",
          "model_module_version": "1.5.0",
          "state": {
            "_dom_classes": [],
            "_model_module": "@jupyter-widgets/controls",
            "_model_module_version": "1.5.0",
            "_model_name": "FloatProgressModel",
            "_view_count": null,
            "_view_module": "@jupyter-widgets/controls",
            "_view_module_version": "1.5.0",
            "_view_name": "ProgressView",
            "bar_style": "success",
            "description": "",
            "description_tooltip": null,
            "layout": "IPY_MODEL_2244d0274f8d4f1e8f35923eb958796d",
            "max": 1,
            "min": 0,
            "orientation": "horizontal",
            "style": "IPY_MODEL_dd25da2d901543a0a5f53a23d3508174",
            "value": 1
          }
        },
        "2a295bc130a6479ebbb04791cd306b40": {
          "model_module": "@jupyter-widgets/controls",
          "model_name": "HTMLModel",
          "model_module_version": "1.5.0",
          "state": {
            "_dom_classes": [],
            "_model_module": "@jupyter-widgets/controls",
            "_model_module_version": "1.5.0",
            "_model_name": "HTMLModel",
            "_view_count": null,
            "_view_module": "@jupyter-widgets/controls",
            "_view_module_version": "1.5.0",
            "_view_name": "HTMLView",
            "description": "",
            "description_tooltip": null,
            "layout": "IPY_MODEL_8af4be58efdd40bb9ddb5686dd272b19",
            "placeholder": "​",
            "style": "IPY_MODEL_a50443faf30743ca9ea9426dee956816",
            "value": " 1/1 [00:00&lt;00:00,  1.32file/s]"
          }
        },
        "d5ae63fed83c4c0f82bb1347cfc9389e": {
          "model_module": "@jupyter-widgets/base",
          "model_name": "LayoutModel",
          "model_module_version": "1.2.0",
          "state": {
            "_model_module": "@jupyter-widgets/base",
            "_model_module_version": "1.2.0",
            "_model_name": "LayoutModel",
            "_view_count": null,
            "_view_module": "@jupyter-widgets/base",
            "_view_module_version": "1.2.0",
            "_view_name": "LayoutView",
            "align_content": null,
            "align_items": null,
            "align_self": null,
            "border": null,
            "bottom": null,
            "display": null,
            "flex": null,
            "flex_flow": null,
            "grid_area": null,
            "grid_auto_columns": null,
            "grid_auto_flow": null,
            "grid_auto_rows": null,
            "grid_column": null,
            "grid_gap": null,
            "grid_row": null,
            "grid_template_areas": null,
            "grid_template_columns": null,
            "grid_template_rows": null,
            "height": null,
            "justify_content": null,
            "justify_items": null,
            "left": null,
            "margin": null,
            "max_height": null,
            "max_width": null,
            "min_height": null,
            "min_width": null,
            "object_fit": null,
            "object_position": null,
            "order": null,
            "overflow": null,
            "overflow_x": null,
            "overflow_y": null,
            "padding": null,
            "right": null,
            "top": null,
            "visibility": null,
            "width": null
          }
        },
        "5a6c551b1c5e449fa591b4eccdb5d7b8": {
          "model_module": "@jupyter-widgets/base",
          "model_name": "LayoutModel",
          "model_module_version": "1.2.0",
          "state": {
            "_model_module": "@jupyter-widgets/base",
            "_model_module_version": "1.2.0",
            "_model_name": "LayoutModel",
            "_view_count": null,
            "_view_module": "@jupyter-widgets/base",
            "_view_module_version": "1.2.0",
            "_view_name": "LayoutView",
            "align_content": null,
            "align_items": null,
            "align_self": null,
            "border": null,
            "bottom": null,
            "display": null,
            "flex": null,
            "flex_flow": null,
            "grid_area": null,
            "grid_auto_columns": null,
            "grid_auto_flow": null,
            "grid_auto_rows": null,
            "grid_column": null,
            "grid_gap": null,
            "grid_row": null,
            "grid_template_areas": null,
            "grid_template_columns": null,
            "grid_template_rows": null,
            "height": null,
            "justify_content": null,
            "justify_items": null,
            "left": null,
            "margin": null,
            "max_height": null,
            "max_width": null,
            "min_height": null,
            "min_width": null,
            "object_fit": null,
            "object_position": null,
            "order": null,
            "overflow": null,
            "overflow_x": null,
            "overflow_y": null,
            "padding": null,
            "right": null,
            "top": null,
            "visibility": null,
            "width": null
          }
        },
        "534b41ec3dba4ce1aaeb68e5a0e112ec": {
          "model_module": "@jupyter-widgets/controls",
          "model_name": "DescriptionStyleModel",
          "model_module_version": "1.5.0",
          "state": {
            "_model_module": "@jupyter-widgets/controls",
            "_model_module_version": "1.5.0",
            "_model_name": "DescriptionStyleModel",
            "_view_count": null,
            "_view_module": "@jupyter-widgets/base",
            "_view_module_version": "1.2.0",
            "_view_name": "StyleView",
            "description_width": ""
          }
        },
        "2244d0274f8d4f1e8f35923eb958796d": {
          "model_module": "@jupyter-widgets/base",
          "model_name": "LayoutModel",
          "model_module_version": "1.2.0",
          "state": {
            "_model_module": "@jupyter-widgets/base",
            "_model_module_version": "1.2.0",
            "_model_name": "LayoutModel",
            "_view_count": null,
            "_view_module": "@jupyter-widgets/base",
            "_view_module_version": "1.2.0",
            "_view_name": "LayoutView",
            "align_content": null,
            "align_items": null,
            "align_self": null,
            "border": null,
            "bottom": null,
            "display": null,
            "flex": null,
            "flex_flow": null,
            "grid_area": null,
            "grid_auto_columns": null,
            "grid_auto_flow": null,
            "grid_auto_rows": null,
            "grid_column": null,
            "grid_gap": null,
            "grid_row": null,
            "grid_template_areas": null,
            "grid_template_columns": null,
            "grid_template_rows": null,
            "height": null,
            "justify_content": null,
            "justify_items": null,
            "left": null,
            "margin": null,
            "max_height": null,
            "max_width": null,
            "min_height": null,
            "min_width": null,
            "object_fit": null,
            "object_position": null,
            "order": null,
            "overflow": null,
            "overflow_x": null,
            "overflow_y": null,
            "padding": null,
            "right": null,
            "top": null,
            "visibility": null,
            "width": null
          }
        },
        "dd25da2d901543a0a5f53a23d3508174": {
          "model_module": "@jupyter-widgets/controls",
          "model_name": "ProgressStyleModel",
          "model_module_version": "1.5.0",
          "state": {
            "_model_module": "@jupyter-widgets/controls",
            "_model_module_version": "1.5.0",
            "_model_name": "ProgressStyleModel",
            "_view_count": null,
            "_view_module": "@jupyter-widgets/base",
            "_view_module_version": "1.2.0",
            "_view_name": "StyleView",
            "bar_color": null,
            "description_width": ""
          }
        },
        "8af4be58efdd40bb9ddb5686dd272b19": {
          "model_module": "@jupyter-widgets/base",
          "model_name": "LayoutModel",
          "model_module_version": "1.2.0",
          "state": {
            "_model_module": "@jupyter-widgets/base",
            "_model_module_version": "1.2.0",
            "_model_name": "LayoutModel",
            "_view_count": null,
            "_view_module": "@jupyter-widgets/base",
            "_view_module_version": "1.2.0",
            "_view_name": "LayoutView",
            "align_content": null,
            "align_items": null,
            "align_self": null,
            "border": null,
            "bottom": null,
            "display": null,
            "flex": null,
            "flex_flow": null,
            "grid_area": null,
            "grid_auto_columns": null,
            "grid_auto_flow": null,
            "grid_auto_rows": null,
            "grid_column": null,
            "grid_gap": null,
            "grid_row": null,
            "grid_template_areas": null,
            "grid_template_columns": null,
            "grid_template_rows": null,
            "height": null,
            "justify_content": null,
            "justify_items": null,
            "left": null,
            "margin": null,
            "max_height": null,
            "max_width": null,
            "min_height": null,
            "min_width": null,
            "object_fit": null,
            "object_position": null,
            "order": null,
            "overflow": null,
            "overflow_x": null,
            "overflow_y": null,
            "padding": null,
            "right": null,
            "top": null,
            "visibility": null,
            "width": null
          }
        },
        "a50443faf30743ca9ea9426dee956816": {
          "model_module": "@jupyter-widgets/controls",
          "model_name": "DescriptionStyleModel",
          "model_module_version": "1.5.0",
          "state": {
            "_model_module": "@jupyter-widgets/controls",
            "_model_module_version": "1.5.0",
            "_model_name": "DescriptionStyleModel",
            "_view_count": null,
            "_view_module": "@jupyter-widgets/base",
            "_view_module_version": "1.2.0",
            "_view_name": "StyleView",
            "description_width": ""
          }
        },
        "03f01afb1397430489d60c577fb34828": {
          "model_module": "@jupyter-widgets/controls",
          "model_name": "HBoxModel",
          "model_module_version": "1.5.0",
          "state": {
            "_dom_classes": [],
            "_model_module": "@jupyter-widgets/controls",
            "_model_module_version": "1.5.0",
            "_model_name": "HBoxModel",
            "_view_count": null,
            "_view_module": "@jupyter-widgets/controls",
            "_view_module_version": "1.5.0",
            "_view_name": "HBoxView",
            "box_style": "",
            "children": [
              "IPY_MODEL_87e7847197ca4b7b94142dedb2966e90",
              "IPY_MODEL_d2240087fcc04c488168428dfa5dea56",
              "IPY_MODEL_ba0ffc70ff904754ae44a8e626a1692b"
            ],
            "layout": "IPY_MODEL_e03ad9f01afb49fbb6a9d13c184fff8f"
          }
        },
        "87e7847197ca4b7b94142dedb2966e90": {
          "model_module": "@jupyter-widgets/controls",
          "model_name": "HTMLModel",
          "model_module_version": "1.5.0",
          "state": {
            "_dom_classes": [],
            "_model_module": "@jupyter-widgets/controls",
            "_model_module_version": "1.5.0",
            "_model_name": "HTMLModel",
            "_view_count": null,
            "_view_module": "@jupyter-widgets/controls",
            "_view_module_version": "1.5.0",
            "_view_name": "HTMLView",
            "description": "",
            "description_tooltip": null,
            "layout": "IPY_MODEL_4c916f1735a94bf3af7dcd52f19a2294",
            "placeholder": "​",
            "style": "IPY_MODEL_87955fc8a01b4c17bb6d893de1409f84",
            "value": "eis_20110208_153218.head.h5.part:  80%"
          }
        },
        "d2240087fcc04c488168428dfa5dea56": {
          "model_module": "@jupyter-widgets/controls",
          "model_name": "FloatProgressModel",
          "model_module_version": "1.5.0",
          "state": {
            "_dom_classes": [],
            "_model_module": "@jupyter-widgets/controls",
            "_model_module_version": "1.5.0",
            "_model_name": "FloatProgressModel",
            "_view_count": null,
            "_view_module": "@jupyter-widgets/controls",
            "_view_module_version": "1.5.0",
            "_view_name": "ProgressView",
            "bar_style": "",
            "description": "",
            "description_tooltip": null,
            "layout": "IPY_MODEL_7181fe0add01417caf57ca8ea5a417b8",
            "max": 400552,
            "min": 0,
            "orientation": "horizontal",
            "style": "IPY_MODEL_d16d5800aac1433db1fa979b11a3f521",
            "value": 400552
          }
        },
        "ba0ffc70ff904754ae44a8e626a1692b": {
          "model_module": "@jupyter-widgets/controls",
          "model_name": "HTMLModel",
          "model_module_version": "1.5.0",
          "state": {
            "_dom_classes": [],
            "_model_module": "@jupyter-widgets/controls",
            "_model_module_version": "1.5.0",
            "_model_name": "HTMLModel",
            "_view_count": null,
            "_view_module": "@jupyter-widgets/controls",
            "_view_module_version": "1.5.0",
            "_view_name": "HTMLView",
            "description": "",
            "description_tooltip": null,
            "layout": "IPY_MODEL_e5be3c0bac1a46d5b0c5d8171ba9a035",
            "placeholder": "​",
            "style": "IPY_MODEL_1ece552a94724e24b0729333fec5fc2e",
            "value": " 321k/401k [00:00&lt;00:00, 479kB/s]"
          }
        },
        "e03ad9f01afb49fbb6a9d13c184fff8f": {
          "model_module": "@jupyter-widgets/base",
          "model_name": "LayoutModel",
          "model_module_version": "1.2.0",
          "state": {
            "_model_module": "@jupyter-widgets/base",
            "_model_module_version": "1.2.0",
            "_model_name": "LayoutModel",
            "_view_count": null,
            "_view_module": "@jupyter-widgets/base",
            "_view_module_version": "1.2.0",
            "_view_name": "LayoutView",
            "align_content": null,
            "align_items": null,
            "align_self": null,
            "border": null,
            "bottom": null,
            "display": null,
            "flex": null,
            "flex_flow": null,
            "grid_area": null,
            "grid_auto_columns": null,
            "grid_auto_flow": null,
            "grid_auto_rows": null,
            "grid_column": null,
            "grid_gap": null,
            "grid_row": null,
            "grid_template_areas": null,
            "grid_template_columns": null,
            "grid_template_rows": null,
            "height": null,
            "justify_content": null,
            "justify_items": null,
            "left": null,
            "margin": null,
            "max_height": null,
            "max_width": null,
            "min_height": null,
            "min_width": null,
            "object_fit": null,
            "object_position": null,
            "order": null,
            "overflow": null,
            "overflow_x": null,
            "overflow_y": null,
            "padding": null,
            "right": null,
            "top": null,
            "visibility": "hidden",
            "width": null
          }
        },
        "4c916f1735a94bf3af7dcd52f19a2294": {
          "model_module": "@jupyter-widgets/base",
          "model_name": "LayoutModel",
          "model_module_version": "1.2.0",
          "state": {
            "_model_module": "@jupyter-widgets/base",
            "_model_module_version": "1.2.0",
            "_model_name": "LayoutModel",
            "_view_count": null,
            "_view_module": "@jupyter-widgets/base",
            "_view_module_version": "1.2.0",
            "_view_name": "LayoutView",
            "align_content": null,
            "align_items": null,
            "align_self": null,
            "border": null,
            "bottom": null,
            "display": null,
            "flex": null,
            "flex_flow": null,
            "grid_area": null,
            "grid_auto_columns": null,
            "grid_auto_flow": null,
            "grid_auto_rows": null,
            "grid_column": null,
            "grid_gap": null,
            "grid_row": null,
            "grid_template_areas": null,
            "grid_template_columns": null,
            "grid_template_rows": null,
            "height": null,
            "justify_content": null,
            "justify_items": null,
            "left": null,
            "margin": null,
            "max_height": null,
            "max_width": null,
            "min_height": null,
            "min_width": null,
            "object_fit": null,
            "object_position": null,
            "order": null,
            "overflow": null,
            "overflow_x": null,
            "overflow_y": null,
            "padding": null,
            "right": null,
            "top": null,
            "visibility": null,
            "width": null
          }
        },
        "87955fc8a01b4c17bb6d893de1409f84": {
          "model_module": "@jupyter-widgets/controls",
          "model_name": "DescriptionStyleModel",
          "model_module_version": "1.5.0",
          "state": {
            "_model_module": "@jupyter-widgets/controls",
            "_model_module_version": "1.5.0",
            "_model_name": "DescriptionStyleModel",
            "_view_count": null,
            "_view_module": "@jupyter-widgets/base",
            "_view_module_version": "1.2.0",
            "_view_name": "StyleView",
            "description_width": ""
          }
        },
        "7181fe0add01417caf57ca8ea5a417b8": {
          "model_module": "@jupyter-widgets/base",
          "model_name": "LayoutModel",
          "model_module_version": "1.2.0",
          "state": {
            "_model_module": "@jupyter-widgets/base",
            "_model_module_version": "1.2.0",
            "_model_name": "LayoutModel",
            "_view_count": null,
            "_view_module": "@jupyter-widgets/base",
            "_view_module_version": "1.2.0",
            "_view_name": "LayoutView",
            "align_content": null,
            "align_items": null,
            "align_self": null,
            "border": null,
            "bottom": null,
            "display": null,
            "flex": null,
            "flex_flow": null,
            "grid_area": null,
            "grid_auto_columns": null,
            "grid_auto_flow": null,
            "grid_auto_rows": null,
            "grid_column": null,
            "grid_gap": null,
            "grid_row": null,
            "grid_template_areas": null,
            "grid_template_columns": null,
            "grid_template_rows": null,
            "height": null,
            "justify_content": null,
            "justify_items": null,
            "left": null,
            "margin": null,
            "max_height": null,
            "max_width": null,
            "min_height": null,
            "min_width": null,
            "object_fit": null,
            "object_position": null,
            "order": null,
            "overflow": null,
            "overflow_x": null,
            "overflow_y": null,
            "padding": null,
            "right": null,
            "top": null,
            "visibility": null,
            "width": null
          }
        },
        "d16d5800aac1433db1fa979b11a3f521": {
          "model_module": "@jupyter-widgets/controls",
          "model_name": "ProgressStyleModel",
          "model_module_version": "1.5.0",
          "state": {
            "_model_module": "@jupyter-widgets/controls",
            "_model_module_version": "1.5.0",
            "_model_name": "ProgressStyleModel",
            "_view_count": null,
            "_view_module": "@jupyter-widgets/base",
            "_view_module_version": "1.2.0",
            "_view_name": "StyleView",
            "bar_color": null,
            "description_width": ""
          }
        },
        "e5be3c0bac1a46d5b0c5d8171ba9a035": {
          "model_module": "@jupyter-widgets/base",
          "model_name": "LayoutModel",
          "model_module_version": "1.2.0",
          "state": {
            "_model_module": "@jupyter-widgets/base",
            "_model_module_version": "1.2.0",
            "_model_name": "LayoutModel",
            "_view_count": null,
            "_view_module": "@jupyter-widgets/base",
            "_view_module_version": "1.2.0",
            "_view_name": "LayoutView",
            "align_content": null,
            "align_items": null,
            "align_self": null,
            "border": null,
            "bottom": null,
            "display": null,
            "flex": null,
            "flex_flow": null,
            "grid_area": null,
            "grid_auto_columns": null,
            "grid_auto_flow": null,
            "grid_auto_rows": null,
            "grid_column": null,
            "grid_gap": null,
            "grid_row": null,
            "grid_template_areas": null,
            "grid_template_columns": null,
            "grid_template_rows": null,
            "height": null,
            "justify_content": null,
            "justify_items": null,
            "left": null,
            "margin": null,
            "max_height": null,
            "max_width": null,
            "min_height": null,
            "min_width": null,
            "object_fit": null,
            "object_position": null,
            "order": null,
            "overflow": null,
            "overflow_x": null,
            "overflow_y": null,
            "padding": null,
            "right": null,
            "top": null,
            "visibility": null,
            "width": null
          }
        },
        "1ece552a94724e24b0729333fec5fc2e": {
          "model_module": "@jupyter-widgets/controls",
          "model_name": "DescriptionStyleModel",
          "model_module_version": "1.5.0",
          "state": {
            "_model_module": "@jupyter-widgets/controls",
            "_model_module_version": "1.5.0",
            "_model_name": "DescriptionStyleModel",
            "_view_count": null,
            "_view_module": "@jupyter-widgets/base",
            "_view_module_version": "1.2.0",
            "_view_name": "StyleView",
            "description_width": ""
          }
        }
      }
    }
  },
  "nbformat": 4,
  "nbformat_minor": 5
}